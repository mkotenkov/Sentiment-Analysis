{
 "cells": [
  {
   "cell_type": "code",
   "execution_count": 64,
   "metadata": {
    "collapsed": true
   },
   "outputs": [
    {
     "name": "stderr",
     "output_type": "stream",
     "text": [
      "[nltk_data] Downloading package stopwords to\n",
      "[nltk_data]     /Users/maksimkoltugin/nltk_data...\n",
      "[nltk_data]   Package stopwords is already up-to-date!\n"
     ]
    },
    {
     "data": {
      "text/plain": "True"
     },
     "execution_count": 64,
     "metadata": {},
     "output_type": "execute_result"
    }
   ],
   "source": [
    "import numpy as np\n",
    "import pandas as pd\n",
    "import pymystem3\n",
    "import re\n",
    "from sklearn.feature_extraction.text import TfidfVectorizer\n",
    "from sklearn.utils import resample\n",
    "from tqdm import tqdm\n",
    "import nltk\n",
    "from nltk.corpus import stopwords\n",
    "import matplotlib.pyplot as plt\n",
    "\n",
    "nltk.download('stopwords')"
   ]
  },
  {
   "cell_type": "markdown",
   "source": [
    "### Download data"
   ],
   "metadata": {
    "collapsed": false
   }
  },
  {
   "cell_type": "code",
   "execution_count": 77,
   "outputs": [],
   "source": [
    "train_df = pd.read_excel('Data/train_data_exam_1.xlsx')\n",
    "test_df = pd.read_excel('Data/test_data_exam_1.xlsx')\n",
    "\n",
    "# deleting nan and rows containing non-string value at 'original_data'\n",
    "train_df = train_df.dropna()\n",
    "train_df = train_df[pd.to_numeric(train_df['original_data'], errors='coerce').isna()].reset_index(drop=True)\n",
    "test_df = test_df.dropna()\n",
    "test_df = test_df[pd.to_numeric(test_df['original_data'], errors='coerce').isna()].reset_index(drop=True)\n",
    "\n",
    "X_train, y_train = train_df['original_data'], train_df['score']\n",
    "X_test, y_test = test_df['original_data'], test_df['score']"
   ],
   "metadata": {
    "collapsed": false
   }
  },
  {
   "cell_type": "markdown",
   "source": [
    "### Tokenize, lemmatize data"
   ],
   "metadata": {
    "collapsed": false
   }
  },
  {
   "cell_type": "code",
   "execution_count": 78,
   "outputs": [
    {
     "name": "stderr",
     "output_type": "stream",
     "text": [
      "100%|██████████| 18715/18715 [01:26<00:00, 215.96it/s]\n",
      "100%|██████████| 8020/8020 [00:36<00:00, 220.15it/s]"
     ]
    },
    {
     "name": "stdout",
     "output_type": "stream",
     "text": [
      "главное-не терять разговорный русский  иначе быть порицать    с индус общаться вот где хард кор  английский вообще-то из европа    в скандинавия  великобритания неплохо он владеть    ваш ко  недавно находить свой читательский билет  английский библиотека  залогиниться  обнаруживать возможность скачивать неплохий аудиокнига  если говорить о современный российский  то они предпочитать робото зачитывание  а точно весь они в топка    а английский  довольно качественный  сейчас  приключение геккельберифин с нигер слушать      у вы и русский постепенно теряться  по крайний мера  письменный    например  в этот пост слово иностранный  офис  по-русски писаться без двойной  ф    я в переводчик на смартфон говорить по-русски  а он по-английски  в планшет наоборот настраивать  хотеть процент    попадание добиваться \n",
      "\n"
     ]
    },
    {
     "name": "stderr",
     "output_type": "stream",
     "text": [
      "\n"
     ]
    }
   ],
   "source": [
    "m = pymystem3.Mystem()\n",
    "\n",
    "\n",
    "def lemmatize(X):\n",
    "    data = []\n",
    "    for s in tqdm(X):\n",
    "        s = re.sub(r\"[\\\\:,.?“/!@#$1234567890#—_ツ►๑۩۞۩•*”˜˜”*°°*`)(]\", ' ', s)\n",
    "        s = m.lemmatize(s)\n",
    "        s = ''.join(s)\n",
    "        data.append(s)\n",
    "    return data\n",
    "\n",
    "\n",
    "lem_X_train = lemmatize(X_train)\n",
    "lem_X_test = lemmatize(X_test)\n",
    "\n",
    "print(lem_X_train[12345])"
   ],
   "metadata": {
    "collapsed": false
   }
  },
  {
   "cell_type": "markdown",
   "source": [
    "### Form the vocabulary of the most valuable words"
   ],
   "metadata": {
    "collapsed": false
   }
  },
  {
   "cell_type": "code",
   "execution_count": 79,
   "outputs": [
    {
     "name": "stdout",
     "output_type": "stream",
     "text": [
      "['дешевый' 'деяние' 'деятель' 'деятельность' 'джихад' 'джон' 'диагноз'\n",
      " 'диалог' 'дивизия' 'дизайн' 'дикарь' 'дикий' 'дико' 'диктатор'\n",
      " 'диктатура' 'дима' 'димон' 'динамика' 'диплом' 'дипломат'\n",
      " 'дипломатический' 'директор' 'диск' 'дискредитировать' 'дискриминация'\n",
      " 'дискуссия' 'диссертация' 'диссидент' 'дистанция' 'дисциплина' 'длинный'\n",
      " 'длительный' 'дмитрий' 'дневной' 'дно' 'добавка' 'добавлять'\n",
      " 'добавляться' 'добивать' 'добиваться' 'добираться' 'добро' 'добровольно'\n",
      " 'добровольный' 'добрый' 'добывать' 'добыча' 'доверие' 'доверять' 'довод']\n",
      "\n",
      "Vocabulary size: 5411\n"
     ]
    }
   ],
   "source": [
    "words = stopwords.words(\"russian\")\n",
    "tfidf_vectorizer = TfidfVectorizer(ngram_range=(1, 1), stop_words=words, max_df=1., min_df=0.002)\n",
    "tfidf_vectorizer.fit_transform(lem_X_train).toarray()\n",
    "features = tfidf_vectorizer.get_feature_names_out()\n",
    "vocabulary = {word: idx for idx, word in enumerate(features)}\n",
    "\n",
    "print(features[1000:1050])\n",
    "print(f'\\nVocabulary size: {len(vocabulary)}')"
   ],
   "metadata": {
    "collapsed": false
   }
  },
  {
   "cell_type": "markdown",
   "source": [
    "### Display distribution of doc lenghtes:"
   ],
   "metadata": {
    "collapsed": false
   }
  },
  {
   "cell_type": "code",
   "execution_count": 80,
   "outputs": [
    {
     "name": "stderr",
     "output_type": "stream",
     "text": [
      "100%|██████████| 18715/18715 [00:12<00:00, 1479.66it/s]\n"
     ]
    },
    {
     "data": {
      "text/plain": "<Figure size 640x480 with 1 Axes>",
      "image/png": "[encoded data removed]"
     },
     "metadata": {},
     "output_type": "display_data"
    }
   ],
   "source": [
    "df_for_display = pd.DataFrame({'encoded_words_seq': []})\n",
    "\n",
    "for doc_idx in tqdm(range(len(lem_X_train))):\n",
    "    doc_words = []\n",
    "    for word in lem_X_train[doc_idx].split(' '):\n",
    "        if word in vocabulary:\n",
    "            doc_words.append(vocabulary[word])\n",
    "    df_for_display.loc[len(df_for_display.index)] = [doc_words]\n",
    "\n",
    "df_for_display['length'] = df_for_display['encoded_words_seq'].str.len()\n",
    "df_for_display['length'].hist(bins=50)\n",
    "plt.show()"
   ],
   "metadata": {
    "collapsed": false
   }
  },
  {
   "cell_type": "markdown",
   "source": [
    "### Standartize doc length:"
   ],
   "metadata": {
    "collapsed": false
   }
  },
  {
   "cell_type": "code",
   "execution_count": 81,
   "outputs": [
    {
     "name": "stdout",
     "output_type": "stream",
     "text": [
      "padding_index: 5411\n"
     ]
    },
    {
     "name": "stderr",
     "output_type": "stream",
     "text": [
      "100%|██████████| 18715/18715 [00:12<00:00, 1503.26it/s]\n",
      "100%|██████████| 8020/8020 [00:04<00:00, 1922.48it/s]"
     ]
    },
    {
     "name": "stdout",
     "output_type": "stream",
     "text": [
      "                                   encoded_words_seq\n",
      "0  [6, 8, 4, 2396, 4000, 3771, 365, 3999, 1297, 5...\n",
      "1  [2225, 1822, 4372, 3397, 4597, 1386, 4562, 464...\n",
      "2  [4806, 197, 619, 817, 4554, 3659, 582, 4313, 3...\n",
      "3  [2875, 1101, 1790, 422, 2152, 1078, 3608, 2029...\n",
      "4  [1858, 4009, 3885, 4601, 5068, 4672, 4782, 370...\n"
     ]
    },
    {
     "name": "stderr",
     "output_type": "stream",
     "text": [
      "\n"
     ]
    }
   ],
   "source": [
    "max_text_length = 100\n",
    "padding_symbol = len(vocabulary)\n",
    "print(f'padding_index: {padding_symbol}')\n",
    "\n",
    "\n",
    "def standartize_doc_length(df: list):\n",
    "    rnn_df = pd.DataFrame({'encoded_words_seq': []})\n",
    "\n",
    "    for doc_idx in tqdm(range(len(df))):\n",
    "        doc_words = []\n",
    "        for word in df[doc_idx].split(' '):\n",
    "            if word in vocabulary:\n",
    "                doc_words.append(vocabulary[word])\n",
    "        doc_words.extend([padding_symbol] * (max_text_length - len(doc_words)))\n",
    "        rnn_df.loc[len(rnn_df.index)] = [doc_words[:max_text_length]]\n",
    "    return rnn_df\n",
    "\n",
    "\n",
    "X_train = standartize_doc_length(lem_X_train)\n",
    "X_test = standartize_doc_length(lem_X_test)\n",
    "print(X_train.head())"
   ],
   "metadata": {
    "collapsed": false
   }
  },
  {
   "cell_type": "markdown",
   "source": [
    "### Downsample/upsample, so that each label is present in the amount of $n$ observations"
   ],
   "metadata": {
    "collapsed": false
   }
  },
  {
   "cell_type": "code",
   "execution_count": 90,
   "outputs": [
    {
     "name": "stdout",
     "output_type": "stream",
     "text": [
      "before balancing:\n",
      " 0    9737\n",
      "-1    6465\n",
      " 1    1204\n",
      "-2    1059\n",
      " 2     250\n",
      "Name: score, dtype: int64\n",
      "\n",
      "after balancing:\n",
      "-2    9737\n",
      "-1    9737\n",
      " 0    9737\n",
      " 1    9737\n",
      " 2    9737\n",
      "Name: score, dtype: int64\n"
     ]
    }
   ],
   "source": [
    "train_df = pd.concat([X_train, y_train], axis=1)\n",
    "\n",
    "print(f\"before balancing:\\n{train_df['score'].value_counts()}\")\n",
    "\n",
    "strong_negative = train_df[train_df['score'] == -2]\n",
    "negative = train_df[train_df['score'] == -1]\n",
    "neutral = train_df[train_df['score'] == 0]\n",
    "positive = train_df[train_df['score'] == 1]\n",
    "strong_positive = train_df[train_df['score'] == 2]\n",
    "\n",
    "n = neutral.shape[0]\n",
    "\n",
    "params = {'replace': True, 'n_samples': n, 'random_state': 0}\n",
    "\n",
    "strong_negative = resample(strong_negative, **params)\n",
    "negative = resample(negative, **params)\n",
    "neutral = resample(neutral, **params)\n",
    "positive = resample(positive, **params)\n",
    "strong_positive = resample(strong_positive, **params)\n",
    "\n",
    "train_df = pd.concat([strong_negative, negative, neutral, positive, strong_positive])\n",
    "X_train, y_train = train_df['encoded_words_seq'], train_df['score']\n",
    "\n",
    "print(f\"\\nafter balancing:\\n{train_df['score'].value_counts()}\")"
   ],
   "metadata": {
    "collapsed": false
   }
  },
  {
   "cell_type": "code",
   "execution_count": 92,
   "outputs": [
    {
     "name": "stdout",
     "output_type": "stream",
     "text": [
      "(48685, 100)\n",
      "(8020, 100)\n"
     ]
    }
   ],
   "source": [
    "X_train = pd.DataFrame(X_train.tolist()).to_numpy().astype(int)\n",
    "X_test = pd.DataFrame(X_test['encoded_words_seq'].tolist()).to_numpy().astype(int)\n",
    "print(X_train.shape)\n",
    "print(X_test.shape)"
   ],
   "metadata": {
    "collapsed": false
   }
  },
  {
   "cell_type": "code",
   "execution_count": 93,
   "outputs": [],
   "source": [
    "# saving only Xs because ys are common with non-rnn df\n",
    "np.save('Data/rnn_X_train', X_train)\n",
    "np.save('Data/rnn_X_test', X_test)"
   ],
   "metadata": {
    "collapsed": false
   }
  }
 ],
 "metadata": {
  "kernelspec": {
   "display_name": "Python 3",
   "language": "python",
   "name": "python3"
  },
  "language_info": {
   "codemirror_mode": {
    "name": "ipython",
    "version": 2
   },
   "file_extension": ".py",
   "mimetype": "text/x-python",
   "name": "python",
   "nbconvert_exporter": "python",
   "pygments_lexer": "ipython2",
   "version": "2.7.6"
  }
 },
 "nbformat": 4,
 "nbformat_minor": 0
}
