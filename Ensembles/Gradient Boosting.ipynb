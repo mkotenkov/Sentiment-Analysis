{
 "cells": [
  {
   "cell_type": "code",
   "execution_count": 17,
   "outputs": [],
   "source": [
    "from sklearn.utils import compute_class_weight\n",
    "import numpy as np\n",
    "from sklearn.ensemble import GradientBoostingClassifier\n",
    "from sklearn.metrics import classification_report\n",
    "from time import time"
   ],
   "metadata": {
    "collapsed": false
   }
  },
  {
   "cell_type": "markdown",
   "source": [
    "### doc2vec as input"
   ],
   "metadata": {
    "collapsed": false
   }
  },
  {
   "cell_type": "code",
   "execution_count": 27,
   "outputs": [
    {
     "name": "stdout",
     "output_type": "stream",
     "text": [
      "(18715, 300)\n"
     ]
    }
   ],
   "source": [
    "X_train = np.load('../Data/unbalanced/doc2vec_X_train.npy')\n",
    "y_train = np.load('../Data/unbalanced/y_train.npy')\n",
    "\n",
    "X_test = np.load('../Data/unbalanced/doc2vec_X_test.npy')\n",
    "y_test = np.load('../Data/unbalanced/y_test.npy')\n",
    "\n",
    "print(X_train.shape)"
   ],
   "metadata": {
    "collapsed": false
   }
  },
  {
   "cell_type": "code",
   "execution_count": 32,
   "outputs": [
    {
     "name": "stdout",
     "output_type": "stream",
     "text": [
      "[ 3.53446648  0.57896365  0.38440998  3.10880399 14.972     ]\n"
     ]
    }
   ],
   "source": [
    "class_weights = compute_class_weight('balanced', classes=np.unique(y_train), y=y_train)\n",
    "\n",
    "sample_weights = np.zeros(len(y_train))\n",
    "for label, weight in zip(np.unique(y_train), class_weights):\n",
    "    sample_weights[y_train == label] = weight\n",
    "\n",
    "print(class_weights)"
   ],
   "metadata": {
    "collapsed": false
   }
  },
  {
   "cell_type": "code",
   "execution_count": 29,
   "outputs": [
    {
     "name": "stdout",
     "output_type": "stream",
     "text": [
      "              precision    recall  f1-score   support\n",
      "\n",
      "          -2       0.25      0.66      0.37       473\n",
      "          -1       0.54      0.50      0.52      2746\n",
      "           0       0.76      0.49      0.59      4174\n",
      "           1       0.26      0.65      0.37       522\n",
      "           2       0.32      0.80      0.46       105\n",
      "\n",
      "    accuracy                           0.51      8020\n",
      "   macro avg       0.43      0.62      0.46      8020\n",
      "weighted avg       0.61      0.51      0.54      8020\n",
      "\n",
      "784.1586301326752\n"
     ]
    }
   ],
   "source": [
    "start = time()\n",
    "\n",
    "model = GradientBoostingClassifier()\n",
    "model.fit(X_train, y_train, sample_weight=sample_weights)\n",
    "y_pred = model.predict(X_test)\n",
    "print(classification_report(y_test, y_pred))\n",
    "\n",
    "end = time()\n",
    "print(end - start)"
   ],
   "metadata": {
    "collapsed": false
   }
  }
 ],
 "metadata": {
  "kernelspec": {
   "display_name": "Python 3",
   "language": "python",
   "name": "python3"
  },
  "language_info": {
   "codemirror_mode": {
    "name": "ipython",
    "version": 2
   },
   "file_extension": ".py",
   "mimetype": "text/x-python",
   "name": "python",
   "nbconvert_exporter": "python",
   "pygments_lexer": "ipython2",
   "version": "2.7.6"
  }
 },
 "nbformat": 4,
 "nbformat_minor": 0
}
