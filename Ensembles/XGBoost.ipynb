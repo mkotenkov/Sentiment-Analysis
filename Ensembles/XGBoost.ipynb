{
 "cells": [
  {
   "cell_type": "code",
   "execution_count": 1,
   "outputs": [],
   "source": [
    "import numpy as np\n",
    "import xgboost as xgb\n",
    "from sklearn.metrics import classification_report\n",
    "from sklearn.utils import compute_sample_weight"
   ],
   "metadata": {
    "collapsed": false
   }
  },
  {
   "cell_type": "markdown",
   "source": [
    "### tf-idf as input\n"
   ],
   "metadata": {
    "collapsed": false
   }
  },
  {
   "cell_type": "code",
   "execution_count": 19,
   "outputs": [],
   "source": [
    "X_train = np.load('../Data/unbalanced/tfidf_X_train.npy')\n",
    "y_train = np.load('../Data/unbalanced/y_train.npy')\n",
    "\n",
    "X_test = np.load('../Data/unbalanced/tfidf_X_test.npy')\n",
    "y_test = np.load('../Data/unbalanced/y_test.npy')"
   ],
   "metadata": {
    "collapsed": false
   }
  },
  {
   "cell_type": "code",
   "execution_count": 20,
   "outputs": [
    {
     "name": "stdout",
     "output_type": "stream",
     "text": [
      "              precision    recall  f1-score   support\n",
      "\n",
      "          -2       0.75      0.18      0.28       473\n",
      "          -1       0.70      0.54      0.61      2746\n",
      "           0       0.68      0.90      0.78      4174\n",
      "           1       0.76      0.26      0.38       522\n",
      "           2       0.69      0.38      0.49       105\n",
      "\n",
      "    accuracy                           0.69      8020\n",
      "   macro avg       0.72      0.45      0.51      8020\n",
      "weighted avg       0.70      0.69      0.66      8020\n",
      "\n"
     ]
    }
   ],
   "source": [
    "model = xgb.XGBClassifier()\n",
    "model.fit(X_train, y_train + 2)\n",
    "y_pred = model.predict(X_test) - 2\n",
    "print(classification_report(y_test, y_pred))"
   ],
   "metadata": {
    "collapsed": false
   }
  },
  {
   "cell_type": "markdown",
   "source": [
    "### doc2vec as input"
   ],
   "metadata": {
    "collapsed": false
   }
  },
  {
   "cell_type": "code",
   "execution_count": 6,
   "outputs": [
    {
     "name": "stdout",
     "output_type": "stream",
     "text": [
      "(18715, 300)\n"
     ]
    }
   ],
   "source": [
    "X_train = np.load('../Data/unbalanced/doc2vec_X_train.npy')\n",
    "y_train = np.load('../Data/unbalanced/y_train.npy')\n",
    "\n",
    "X_test = np.load('../Data/unbalanced/doc2vec_X_test.npy')\n",
    "y_test = np.load('../Data/unbalanced/y_test.npy')\n",
    "\n",
    "print(X_train.shape)"
   ],
   "metadata": {
    "collapsed": false
   }
  },
  {
   "cell_type": "code",
   "execution_count": 7,
   "outputs": [
    {
     "name": "stdout",
     "output_type": "stream",
     "text": [
      "              precision    recall  f1-score   support\n",
      "\n",
      "          -2       0.70      0.52      0.60       473\n",
      "          -1       0.74      0.74      0.74      2746\n",
      "           0       0.80      0.84      0.82      4174\n",
      "           1       0.68      0.57      0.62       522\n",
      "           2       0.57      0.63      0.60       105\n",
      "\n",
      "    accuracy                           0.77      8020\n",
      "   macro avg       0.70      0.66      0.68      8020\n",
      "weighted avg       0.76      0.77      0.76      8020\n",
      "\n"
     ]
    }
   ],
   "source": [
    "model = xgb.XGBClassifier()\n",
    "model.fit(X_train, y_train + 2)\n",
    "y_pred = model.predict(X_test) - 2\n",
    "print(classification_report(y_test, y_pred))"
   ],
   "metadata": {
    "collapsed": false
   }
  }
 ],
 "metadata": {
  "kernelspec": {
   "display_name": "Python 3",
   "language": "python",
   "name": "python3"
  },
  "language_info": {
   "codemirror_mode": {
    "name": "ipython",
    "version": 2
   },
   "file_extension": ".py",
   "mimetype": "text/x-python",
   "name": "python",
   "nbconvert_exporter": "python",
   "pygments_lexer": "ipython2",
   "version": "2.7.6"
  }
 },
 "nbformat": 4,
 "nbformat_minor": 0
}
