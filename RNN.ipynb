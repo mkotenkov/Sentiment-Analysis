{
 "cells": [
  {
   "cell_type": "code",
   "execution_count": 1,
   "metadata": {
    "collapsed": true
   },
   "outputs": [
    {
     "data": {
      "text/plain": "device(type='cpu')"
     },
     "execution_count": 1,
     "metadata": {},
     "output_type": "execute_result"
    }
   ],
   "source": [
    "import numpy as np\n",
    "import torch\n",
    "import torch.nn as nn\n",
    "from torch.optim import Adam\n",
    "from torch.utils.data import Dataset, DataLoader\n",
    "import torch.nn.functional as F\n",
    "from sklearn.metrics import f1_score, classification_report\n",
    "from tqdm import tqdm\n",
    "from IPython.display import clear_output\n",
    "import matplotlib.pyplot as plt\n",
    "from utils import CustomDataset, train\n",
    "\n",
    "device = torch.device(\"cuda\" if torch.cuda.is_available() else \"cpu\")\n",
    "device"
   ]
  },
  {
   "cell_type": "code",
   "execution_count": null,
   "outputs": [],
   "source": [
    "# from google.colab import drive\n",
    "# drive.mount('/content/drive')\n",
    "# from pathlib import Path\n",
    "# sources_path = Path(\"/content/drive/MyDrive/Data\")\n",
    "# X_train = np.load(str(sources_path / 'X_train.npy'))\n",
    "# y_train = np.load(str(sources_path / 'Data/y_train.npy'))\n",
    "# X_test = np.load(str(sources_path / 'Data/X_test.npy'))\n",
    "# y_test = np.load(str(sources_path / 'Data/y_test.npy'))"
   ],
   "metadata": {
    "collapsed": false
   }
  },
  {
   "cell_type": "code",
   "execution_count": 2,
   "outputs": [],
   "source": [
    "X_train = np.load('Data/rnn_X_train.npy')\n",
    "y_train = np.load('Data/y_train.npy')\n",
    "\n",
    "X_test = np.load('Data/rnn_X_test.npy')\n",
    "y_test = np.load('Data/y_test.npy')\n",
    "\n",
    "voc_size = 5412  # \"Data_preparation_RNN.ipynb\"\n",
    "padding_idx = 5411"
   ],
   "metadata": {
    "collapsed": false
   }
  },
  {
   "cell_type": "code",
   "execution_count": 3,
   "outputs": [],
   "source": [
    "train_df = CustomDataset(X_train, y_train)\n",
    "test_df = CustomDataset(X_test, y_test)\n",
    "\n",
    "train_loader = DataLoader(train_df, batch_size=1024, shuffle=True)\n",
    "test_loader = DataLoader(test_df, batch_size=1024, shuffle=False)"
   ],
   "metadata": {
    "collapsed": false
   }
  },
  {
   "cell_type": "code",
   "execution_count": 4,
   "outputs": [
    {
     "data": {
      "text/plain": "torch.Size([1024, 100])"
     },
     "execution_count": 4,
     "metadata": {},
     "output_type": "execute_result"
    }
   ],
   "source": [
    "X, y = next(iter(train_loader))\n",
    "X.shape"
   ],
   "metadata": {
    "collapsed": false
   }
  },
  {
   "cell_type": "code",
   "execution_count": 9,
   "outputs": [],
   "source": [
    "class RNN(nn.Module):\n",
    "    def __init__(self, voc_size, embedding_size, padding_idx, hidden_state_size, n_rec_layers, output_size):\n",
    "        super().__init__()\n",
    "        self.n_rec_layers = n_rec_layers\n",
    "        self.hidden_state_size = hidden_state_size\n",
    "\n",
    "        self.embedding = nn.Embedding(voc_size, embedding_size, padding_idx)\n",
    "        self.rnn = nn.GRU(embedding_size, hidden_state_size, n_rec_layers, batch_first=True)\n",
    "        self.fc = nn.Linear(hidden_state_size, output_size)\n",
    "        self.logsoftmax = nn.LogSoftmax(dim=1)\n",
    "\n",
    "    def forward(self, X):\n",
    "        h_0 = torch.zeros(self.n_rec_layers, X.size(0), self.hidden_state_size).to(device)\n",
    "\n",
    "        X = self.embedding(X)\n",
    "        X, _ = self.rnn(X, h_0)\n",
    "        X = X[:, -1, :]\n",
    "        X = self.fc(X)\n",
    "        X = self.logsoftmax(X)\n",
    "\n",
    "        return X"
   ],
   "metadata": {
    "collapsed": false
   }
  },
  {
   "cell_type": "code",
   "execution_count": null,
   "outputs": [
    {
     "name": "stderr",
     "output_type": "stream",
     "text": [
      "  0%|          | 0/45 [00:00<?, ?it/s]"
     ]
    }
   ],
   "source": [
    "rnn = RNN(\n",
    "    voc_size=voc_size,\n",
    "    embedding_size=512,\n",
    "    padding_idx=padding_idx,\n",
    "    hidden_state_size=512,\n",
    "    n_rec_layers=1,\n",
    "    output_size=5\n",
    ").to(device)\n",
    "\n",
    "optimizer = Adam(rnn.parameters(), lr=1e-4)\n",
    "train_losses, test_losses, train_f1_scores, test_f1_scores = train(rnn, optimizer, 45, train_loader, test_loader)"
   ],
   "metadata": {
    "collapsed": false,
    "pycharm": {
     "is_executing": true
    }
   }
  },
  {
   "cell_type": "code",
   "execution_count": 7,
   "outputs": [
    {
     "data": {
      "text/plain": "tensor([[[-0.5086],\n         [ 1.3157],\n         [ 0.7384],\n         [-0.1474],\n         [-0.1474],\n         [ 0.0000]],\n\n        [[-0.5086],\n         [ 0.7876],\n         [ 0.2688],\n         [ 0.7876],\n         [-2.0134],\n         [ 0.9981]]], grad_fn=<EmbeddingBackward0>)"
     },
     "execution_count": 7,
     "metadata": {},
     "output_type": "execute_result"
    }
   ],
   "source": [
    "a = torch.IntTensor([[1, 4, 7, 0, 0, 99],\n",
    "                     [1, 2, 5, 2, 3, 6]]).to(torch.int64)\n",
    "\n",
    "emb = torch.nn.Embedding(100, 1, padding_idx=99)\n",
    "emb(a)\n"
   ],
   "metadata": {
    "collapsed": false
   }
  },
  {
   "cell_type": "code",
   "execution_count": null,
   "outputs": [],
   "source": [],
   "metadata": {
    "collapsed": false
   }
  }
 ],
 "metadata": {
  "kernelspec": {
   "display_name": "Python 3",
   "language": "python",
   "name": "python3"
  },
  "language_info": {
   "codemirror_mode": {
    "name": "ipython",
    "version": 2
   },
   "file_extension": ".py",
   "mimetype": "text/x-python",
   "name": "python",
   "nbconvert_exporter": "python",
   "pygments_lexer": "ipython2",
   "version": "2.7.6"
  }
 },
 "nbformat": 4,
 "nbformat_minor": 0
}
