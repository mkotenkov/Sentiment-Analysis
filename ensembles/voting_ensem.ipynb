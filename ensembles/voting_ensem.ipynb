{
 "cells": [
  {
   "cell_type": "code",
   "execution_count": 1,
   "metadata": {
    "collapsed": true
   },
   "outputs": [],
   "source": [
    "import numpy as np\n",
    "import pickle\n",
    "\n",
    "from sklearn.neighbors import KNeighborsClassifier\n",
    "from sklearn.ensemble import RandomForestClassifier\n",
    "from sklearn.svm import SVC\n",
    "from sklearn.metrics import classification_report, f1_score\n",
    "\n",
    "from sklearn.ensemble import StackingClassifier\n",
    "# we will also Import 3 classifiers\n",
    "from sklearn.linear_model import LogisticRegression\n",
    "from sklearn.tree import DecisionTreeClassifier\n",
    "from sklearn.svm import SVC\n",
    "from sklearn.ensemble import AdaBoostClassifier\n",
    "from sklearn.ensemble import VotingClassifier\n",
    "from sklearn import model_selection"
   ]
  },
  {
   "cell_type": "code",
   "execution_count": 5,
   "outputs": [],
   "source": [
    "X_train = np.load('../Data/X_train.npy')\n",
    "y_train = np.load('../Data/y_train.npy')\n",
    "X_test = np.load('../Data/X_test.npy')\n",
    "y_test = np.load('../Data/y_test.npy')"
   ],
   "metadata": {
    "collapsed": false
   }
  },
  {
   "cell_type": "code",
   "execution_count": 6,
   "outputs": [],
   "source": [
    "import time\n",
    "# задаем процедуру кросс-валидации\n",
    "kfold = model_selection.KFold(n_splits=2, random_state=None)\n",
    "# create the sub models\n",
    "# создаем список классификаторов первого уровня (слоя)\n",
    "estimators = []\n",
    "model1 = LogisticRegression()\n",
    "estimators.append(('logistic', model1))\n",
    "\n",
    "model2 = DecisionTreeClassifier()\n",
    "estimators.append(('tree', model2))\n",
    "\n",
    "model3 = SVC()\n",
    "estimators.append(('svm', model3))\n",
    "\n",
    "model4 = AdaBoostClassifier(n_estimators=10, random_state=None)\n",
    "estimators.append(('adabust', model4))\n",
    "\n",
    "start = time.time()\n",
    "# create the ensemble model\n",
    "# Soft Voting/Majority Rule classifier for unfitted estimators.\n",
    "# see details: https://scikit-learn.org/stable/modules/generated/sklearn.ensemble.VotingClassifier.html\n",
    "# задаем объект классификатора Voiting Ensamble, в него передаем список классификаторов первого уровня\n",
    "# также нужно указать тип голосования - параметр voting\n",
    "ensemble = VotingClassifier(estimators, voting='hard')\n",
    "\n",
    "# voting{‘hard’, ‘soft’}, default=’hard’\n",
    "# If ‘hard’, uses predicted class labels for majority rule voting. Else if ‘soft’,\n",
    "# predicts the class label based on the argmax of the sums of the predicted probabilities,\n",
    "# which is recommended for an ensemble of well-calibrated classifiers.\n",
    "\n",
    "results = model_selection.cross_val_score(ensemble, data, Y, cv=kfold, scoring='f1_macro')\n",
    "print(results.mean())\n",
    "stop = time.time()\n",
    "print('time of execution (sec)', stop - start)"
   ],
   "metadata": {
    "collapsed": false
   }
  },
  {
   "cell_type": "code",
   "execution_count": null,
   "outputs": [],
   "source": [
    "import time\n",
    "# do train of our model\n",
    "start = time.time()\n",
    "clf.fit(X_train, y_train)\n",
    "stop = time.time()\n",
    "# results is set lematized documents\n",
    "print('time of execution (sec)', stop - start)"
   ],
   "metadata": {
    "collapsed": false,
    "pycharm": {
     "is_executing": true
    }
   }
  },
  {
   "cell_type": "code",
   "execution_count": null,
   "outputs": [],
   "source": [
    "y_pred = clf.predict(X_test)\n",
    "print(classification_report(y_test, y_pred))"
   ],
   "metadata": {
    "collapsed": false
   }
  },
  {
   "cell_type": "code",
   "execution_count": null,
   "outputs": [],
   "source": [],
   "metadata": {
    "collapsed": false
   }
  }
 ],
 "metadata": {
  "kernelspec": {
   "display_name": "Python 3",
   "language": "python",
   "name": "python3"
  },
  "language_info": {
   "codemirror_mode": {
    "name": "ipython",
    "version": 2
   },
   "file_extension": ".py",
   "mimetype": "text/x-python",
   "name": "python",
   "nbconvert_exporter": "python",
   "pygments_lexer": "ipython2",
   "version": "2.7.6"
  }
 },
 "nbformat": 4,
 "nbformat_minor": 0
}
