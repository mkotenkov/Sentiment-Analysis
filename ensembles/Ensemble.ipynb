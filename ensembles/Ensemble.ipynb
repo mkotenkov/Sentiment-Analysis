{
 "cells": [
  {
   "cell_type": "code",
   "execution_count": 1,
   "metadata": {
    "collapsed": true
   },
   "outputs": [],
   "source": [
    "import numpy as np\n",
    "import pickle\n",
    "\n",
    "from sklearn.neighbors import KNeighborsClassifier\n",
    "from sklearn.ensemble import RandomForestClassifier\n",
    "from sklearn.svm import SVC\n",
    "from sklearn.metrics import classification_report, f1_score"
   ]
  },
  {
   "cell_type": "code",
   "execution_count": 4,
   "outputs": [],
   "source": [
    "X_test = np.load('Data/X_test.npy')\n",
    "y_test = np.load('Data/y_test.npy')"
   ],
   "metadata": {
    "collapsed": false
   }
  },
  {
   "cell_type": "code",
   "execution_count": 2,
   "outputs": [],
   "source": [
    "with open(\"Trained_models/Random_Forest.pkl\", \"rb\") as f:\n",
    "    rf = pickle.load(f)\n",
    "with open(\"Trained_models/KNN.pkl\", \"rb\") as f:\n",
    "    knn = pickle.load(f)\n",
    "with open(\"Trained_models/SVM.pkl\", \"rb\") as f:\n",
    "    svm = pickle.load(f)\n",
    "\n",
    "models=[\n",
    "    (rf, 0.45),\n",
    "    (knn, 0.35),\n",
    "    (svm, 0.2)\n",
    "]"
   ],
   "metadata": {
    "collapsed": false
   }
  },
  {
   "cell_type": "code",
   "execution_count": 7,
   "outputs": [
    {
     "name": "stdout",
     "output_type": "stream",
     "text": [
      "[ 0  0  1 ... -2 -1  0]\n",
      "[ 0  0  1 ... -1  0  0]\n",
      "[-1  0  1 ... -2 -1  0]\n"
     ]
    }
   ],
   "source": [
    "n_models = len(models)\n",
    "\n",
    "ensem_pred = np.zeros_like(y_test, dtype=np.float64)\n",
    "\n",
    "for model, w in models:\n",
    "    pred = model.predict(X_test)\n",
    "    ensem_pred += pred * w\n",
    "    print(pred)"
   ],
   "metadata": {
    "collapsed": false
   }
  },
  {
   "cell_type": "code",
   "execution_count": 8,
   "outputs": [
    {
     "name": "stdout",
     "output_type": "stream",
     "text": [
      "              precision    recall  f1-score   support\n",
      "\n",
      "          -2       0.52      0.71      0.60       473\n",
      "          -1       0.65      0.71      0.68      2746\n",
      "           0       0.79      0.69      0.74      4174\n",
      "           1       0.50      0.61      0.55       522\n",
      "           2       0.61      0.51      0.56       105\n",
      "\n",
      "    accuracy                           0.69      8020\n",
      "   macro avg       0.62      0.65      0.63      8020\n",
      "weighted avg       0.71      0.69      0.70      8020\n",
      "\n"
     ]
    }
   ],
   "source": [
    "ensem_pred = np.round(ensem_pred)\n",
    "print(classification_report(y_test, ensem_pred))"
   ],
   "metadata": {
    "collapsed": false
   }
  }
 ],
 "metadata": {
  "kernelspec": {
   "display_name": "Python 3",
   "language": "python",
   "name": "python3"
  },
  "language_info": {
   "codemirror_mode": {
    "name": "ipython",
    "version": 2
   },
   "file_extension": ".py",
   "mimetype": "text/x-python",
   "name": "python",
   "nbconvert_exporter": "python",
   "pygments_lexer": "ipython2",
   "version": "2.7.6"
  }
 },
 "nbformat": 4,
 "nbformat_minor": 0
}
