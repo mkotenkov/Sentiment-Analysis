{
 "cells": [
  {
   "cell_type": "code",
   "execution_count": 8,
   "metadata": {
    "collapsed": true
   },
   "outputs": [],
   "source": [
    "import numpy as np\n",
    "from sklearn.metrics import classification_report\n",
    "from sklearn.ensemble import RandomForestClassifier\n",
    "from sklearn.model_selection import ShuffleSplit, GridSearchCV\n",
    "import pickle"
   ]
  },
  {
   "cell_type": "code",
   "execution_count": 9,
   "outputs": [],
   "source": [
    "# X_train = np.load('Data/X_train.npy')\n",
    "X_train = np.load('Data/doc_embeds_X_train.npy')\n",
    "y_train = np.load('Data/y_train.npy')\n",
    "\n",
    "# X_test = np.load('Data/X_test.npy')\n",
    "X_test = np.load('Data/doc_embeds_X_test.npy')\n",
    "y_test = np.load('Data/y_test.npy')"
   ],
   "metadata": {
    "collapsed": false
   }
  },
  {
   "cell_type": "code",
   "execution_count": 16,
   "outputs": [
    {
     "name": "stdout",
     "output_type": "stream",
     "text": [
      "{'max_depth': 10, 'max_features': 'log2', 'n_estimators': 200}\n",
      "0.5140314852840521\n"
     ]
    }
   ],
   "source": [
    "model = RandomForestClassifier(\n",
    "    n_estimators=150,  # The number of trees in the forest.\n",
    "    criterion='entropy',  #  function to measure the quality of a split (Gini impurity and “entropy”)\n",
    "    max_depth=None,  # The maximum depth of the tree\n",
    "    min_samples_split=2,  # The minimum number of samples required to split\n",
    "    min_samples_leaf=1,  # The minimum number of samples required to be at a leaf node\n",
    "    min_weight_fraction_leaf=0.0,  # The minimum weighted fraction of the sum total of weights\n",
    "    max_features='log2',  # The number of features to consider when looking for the best split.\n",
    "    max_leaf_nodes=None,\n",
    "    min_impurity_decrease=0.0,  # Threshold for early stopping in tree growth.\n",
    "    bootstrap=True,\n",
    "    oob_score=False,\n",
    "    n_jobs=-1,  # The number of jobs to run in parallel. -1 means using all processors.\n",
    "    random_state=0,  #\n",
    "    verbose=0,\n",
    "    warm_start=False,\n",
    "    class_weight='balanced')\n",
    "\n",
    "param_grid = {\n",
    "    'n_estimators': [int(x) for x in np.linspace(start = 100, stop = 200, num = 10)],\n",
    "    'max_features': ['log2', 'sqrt'],\n",
    "    'max_depth': [int(x) for x in np.linspace(start = 10, stop = 50, num = 10)]\n",
    "}\n",
    "\n",
    "cv = ShuffleSplit(n_splits=3, test_size=0.01, train_size=0.02, random_state=0)\n",
    "clf = GridSearchCV(model, param_grid, cv=cv)\n",
    "clf.fit(X_train, y_train)\n",
    "\n",
    "# getting best result\n",
    "print(clf.best_params_)\n",
    "print(clf.best_score_)"
   ],
   "metadata": {
    "collapsed": false
   }
  },
  {
   "cell_type": "code",
   "execution_count": 24,
   "outputs": [
    {
     "name": "stdout",
     "output_type": "stream",
     "text": [
      "              precision    recall  f1-score   support\n",
      "\n",
      "          -2       0.55      0.72      0.62       473\n",
      "          -1       0.68      0.70      0.69      2746\n",
      "           0       0.81      0.72      0.77      4174\n",
      "           1       0.55      0.74      0.63       522\n",
      "           2       0.49      0.79      0.61       105\n",
      "\n",
      "    accuracy                           0.72      8020\n",
      "   macro avg       0.62      0.73      0.66      8020\n",
      "weighted avg       0.73      0.72      0.72      8020\n",
      "\n"
     ]
    }
   ],
   "source": [
    "params = {'max_depth': None, 'max_features': 'log2', 'n_estimators': 180}\n",
    "best_model = RandomForestClassifier(**params)\n",
    "best_model.fit(X_train, y_train)\n",
    "y_pred = best_model.predict(X_test)\n",
    "print(classification_report(y_test, y_pred))"
   ],
   "metadata": {
    "collapsed": false
   }
  },
  {
   "cell_type": "code",
   "execution_count": 51,
   "outputs": [],
   "source": [
    "with open(\"Trained_models/Random_Forest.pkl\", \"wb\") as f:\n",
    "    pickle.dump(best_model, f)"
   ],
   "metadata": {
    "collapsed": false
   }
  }
 ],
 "metadata": {
  "kernelspec": {
   "display_name": "Python 3",
   "language": "python",
   "name": "python3"
  },
  "language_info": {
   "codemirror_mode": {
    "name": "ipython",
    "version": 2
   },
   "file_extension": ".py",
   "mimetype": "text/x-python",
   "name": "python",
   "nbconvert_exporter": "python",
   "pygments_lexer": "ipython2",
   "version": "2.7.6"
  }
 },
 "nbformat": 4,
 "nbformat_minor": 0
}
