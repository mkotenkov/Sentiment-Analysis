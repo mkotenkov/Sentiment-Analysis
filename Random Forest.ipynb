{
 "cells": [
  {
   "cell_type": "code",
   "execution_count": 46,
   "metadata": {
    "collapsed": true
   },
   "outputs": [],
   "source": [
    "import numpy as np\n",
    "from sklearn.metrics import classification_report\n",
    "from sklearn.ensemble import RandomForestClassifier\n",
    "from sklearn.model_selection import ShuffleSplit, GridSearchCV\n",
    "import pickle"
   ]
  },
  {
   "cell_type": "code",
   "execution_count": 4,
   "outputs": [],
   "source": [
    "X_train = np.load('Data/X_train.npy')\n",
    "y_train = np.load('Data/y_train.npy')\n",
    "X_test = np.load('Data/X_test.npy')\n",
    "y_test = np.load('Data/y_test.npy')"
   ],
   "metadata": {
    "collapsed": false
   }
  },
  {
   "cell_type": "code",
   "execution_count": 49,
   "outputs": [
    {
     "name": "stdout",
     "output_type": "stream",
     "text": [
      "{'max_depth': 58, 'max_features': 'log2', 'n_estimators': 166}\n",
      "0.5184804928131417\n"
     ]
    }
   ],
   "source": [
    "model = RandomForestClassifier(\n",
    "    n_estimators=150,  # The number of trees in the forest.\n",
    "    criterion='entropy',  #  function to measure the quality of a split (Gini impurity and “entropy”)\n",
    "    max_depth=None,  # The maximum depth of the tree\n",
    "    min_samples_split=2,  # The minimum number of samples required to split\n",
    "    min_samples_leaf=1,  # The minimum number of samples required to be at a leaf node\n",
    "    min_weight_fraction_leaf=0.0,  # The minimum weighted fraction of the sum total of weights\n",
    "    max_features='log2',  # The number of features to consider when looking for the best split.\n",
    "    max_leaf_nodes=None,\n",
    "    min_impurity_decrease=0.0,  # Threshold for early stopping in tree growth.\n",
    "    bootstrap=True,\n",
    "    oob_score=False,\n",
    "    n_jobs=-1,  # The number of jobs to run in parallel. -1 means using all processors.\n",
    "    random_state=0,  #\n",
    "    verbose=0,\n",
    "    warm_start=False,\n",
    "    class_weight='balanced')\n",
    "\n",
    "param_grid = {\n",
    "    'n_estimators': [int(x) for x in np.linspace(start = 100, stop = 200, num = 10)],\n",
    "    'max_features': ['log2'],\n",
    "    'max_depth': [int(x) for x in np.linspace(start = 25, stop = 75, num = 10)]\n",
    "}\n",
    "\n",
    "cv = ShuffleSplit(n_splits=2, test_size=0.01, train_size=0.02, random_state=0)\n",
    "clf = GridSearchCV(model, param_grid, cv=cv)\n",
    "clf.fit(X_train, y_train)\n",
    "\n",
    "# getting best result\n",
    "print(clf.best_params_)\n",
    "print(clf.best_score_)"
   ],
   "metadata": {
    "collapsed": false
   }
  },
  {
   "cell_type": "code",
   "execution_count": 50,
   "outputs": [
    {
     "name": "stdout",
     "output_type": "stream",
     "text": [
      "              precision    recall  f1-score   support\n",
      "\n",
      "          -2       0.53      0.70      0.60       473\n",
      "          -1       0.67      0.68      0.67      2746\n",
      "           0       0.80      0.72      0.76      4174\n",
      "           1       0.52      0.71      0.60       522\n",
      "           2       0.48      0.75      0.59       105\n",
      "\n",
      "    accuracy                           0.70      8020\n",
      "   macro avg       0.60      0.71      0.64      8020\n",
      "weighted avg       0.72      0.70      0.71      8020\n",
      "\n"
     ]
    }
   ],
   "source": [
    "best_model = RandomForestClassifier(**clf.best_params_)\n",
    "best_model.fit(X_train, y_train)\n",
    "y_pred = best_model.predict(X_test)\n",
    "print(classification_report(y_test, y_pred))"
   ],
   "metadata": {
    "collapsed": false
   }
  },
  {
   "cell_type": "code",
   "execution_count": 51,
   "outputs": [],
   "source": [
    "with open(\"Trained_models/Random_Forest.pkl\", \"wb\") as f:\n",
    "    pickle.dump(best_model, f)"
   ],
   "metadata": {
    "collapsed": false
   }
  }
 ],
 "metadata": {
  "kernelspec": {
   "display_name": "Python 3",
   "language": "python",
   "name": "python3"
  },
  "language_info": {
   "codemirror_mode": {
    "name": "ipython",
    "version": 2
   },
   "file_extension": ".py",
   "mimetype": "text/x-python",
   "name": "python",
   "nbconvert_exporter": "python",
   "pygments_lexer": "ipython2",
   "version": "2.7.6"
  }
 },
 "nbformat": 4,
 "nbformat_minor": 0
}
