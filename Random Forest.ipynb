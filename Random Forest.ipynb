{
 "cells": [
  {
   "cell_type": "code",
   "execution_count": 1,
   "metadata": {
    "collapsed": true
   },
   "outputs": [],
   "source": [
    "import numpy as np\n",
    "from sklearn.metrics import classification_report, f1_score\n",
    "from sklearn.ensemble import RandomForestClassifier\n",
    "from time import time\n",
    "import pickle"
   ]
  },
  {
   "cell_type": "markdown",
   "source": [
    "### tf-idf as input"
   ],
   "metadata": {
    "collapsed": false
   }
  },
  {
   "cell_type": "code",
   "execution_count": 5,
   "outputs": [
    {
     "name": "stdout",
     "output_type": "stream",
     "text": [
      "(18715, 5353)\n"
     ]
    }
   ],
   "source": [
    "X_train = np.load('Data/unbalanced/tfidf_X_train.npy')\n",
    "y_train = np.load('Data/unbalanced/y_train.npy')\n",
    "\n",
    "X_test = np.load('Data/unbalanced/tfidf_X_test.npy')\n",
    "y_test = np.load('Data/unbalanced/y_test.npy')\n",
    "\n",
    "print(X_train.shape)"
   ],
   "metadata": {
    "collapsed": false
   }
  },
  {
   "cell_type": "code",
   "execution_count": 4,
   "outputs": [
    {
     "name": "stdout",
     "output_type": "stream",
     "text": [
      "              precision    recall  f1-score   support\n",
      "\n",
      "          -2       0.55      0.71      0.62       473\n",
      "          -1       0.75      0.70      0.72      2746\n",
      "           0       0.82      0.78      0.80      4174\n",
      "           1       0.56      0.73      0.64       522\n",
      "           2       0.49      0.79      0.61       105\n",
      "\n",
      "    accuracy                           0.75      8020\n",
      "   macro avg       0.63      0.74      0.68      8020\n",
      "weighted avg       0.76      0.75      0.75      8020\n",
      "\n"
     ]
    }
   ],
   "source": [
    "params = {'max_depth': None, 'max_features': 'log2', 'n_estimators': 200}\n",
    "best_model = RandomForestClassifier(**params, class_weight='balanced')\n",
    "best_model.fit(X_train, y_train)\n",
    "y_pred = best_model.predict(X_test)\n",
    "print(classification_report(y_test, y_pred))"
   ],
   "metadata": {
    "collapsed": false
   }
  },
  {
   "cell_type": "markdown",
   "source": [
    "### doc2vec as input"
   ],
   "metadata": {
    "collapsed": false
   }
  },
  {
   "cell_type": "code",
   "execution_count": 10,
   "outputs": [
    {
     "name": "stdout",
     "output_type": "stream",
     "text": [
      "(18715, 300)\n"
     ]
    }
   ],
   "source": [
    "X_train = np.load('Data/unbalanced/doc2vec_X_train.npy')\n",
    "y_train = np.load('Data/unbalanced/y_train.npy')\n",
    "\n",
    "X_test = np.load('Data/unbalanced/doc2vec_X_test.npy')\n",
    "y_test = np.load('Data/unbalanced/y_test.npy')\n",
    "\n",
    "print(X_train.shape)"
   ],
   "metadata": {
    "collapsed": false
   }
  },
  {
   "cell_type": "code",
   "execution_count": 7,
   "outputs": [
    {
     "name": "stdout",
     "output_type": "stream",
     "text": [
      "n: 10, f1_score: 0.6789060714605956\n",
      "n: 15, f1_score: 0.6790925152549938\n",
      "n: 20, f1_score: 0.6808008642247632\n",
      "n: 25, f1_score: 0.6814552430934377\n",
      "n: 30, f1_score: 0.6858414097886532\n",
      "n: 35, f1_score: 0.6854434568654\n",
      "n: 40, f1_score: 0.6807267699787517\n",
      "n: 45, f1_score: 0.688187273810885\n",
      "time: 33.86594295501709\n"
     ]
    }
   ],
   "source": [
    "start = time()\n",
    "\n",
    "scores = []\n",
    "for n in range(10, 50, 5):\n",
    "    params = {'max_depth': 65, 'max_features': 'log2', 'n_estimators': n}\n",
    "    model = RandomForestClassifier(**params, class_weight='balanced')\n",
    "    model.fit(X_train, y_train)\n",
    "    y_pred = model.predict(X_test)\n",
    "    scores.append(f1_score(y_test, y_pred, average='macro'))\n",
    "    print(f'n: {n}, f1_score: {scores[-1]}')\n",
    "\n",
    "end = time()\n",
    "print('time:', end-start)"
   ],
   "metadata": {
    "collapsed": false
   }
  },
  {
   "cell_type": "code",
   "execution_count": 8,
   "outputs": [
    {
     "name": "stdout",
     "output_type": "stream",
     "text": [
      "depth: 10, f1_score: 0.5861791015155366\n",
      "depth: 15, f1_score: 0.681367723362298\n",
      "depth: 20, f1_score: 0.6855034786496043\n",
      "depth: 25, f1_score: 0.6866213026219827\n",
      "depth: 30, f1_score: 0.6838212052483372\n",
      "depth: 35, f1_score: 0.6856153002999927\n",
      "depth: 40, f1_score: 0.6871252741575271\n",
      "depth: 45, f1_score: 0.6858415693422069\n",
      "depth: 50, f1_score: 0.685083450792518\n",
      "depth: 55, f1_score: 0.6877499041451134\n",
      "depth: 60, f1_score: 0.685061715580349\n",
      "depth: 65, f1_score: 0.6843359696145977\n",
      "depth: 70, f1_score: 0.686316016323796\n",
      "depth: 75, f1_score: 0.6858839911876651\n",
      "depth: 80, f1_score: 0.6840021298762914\n",
      "depth: 85, f1_score: 0.6849612578733382\n",
      "depth: 90, f1_score: 0.6866510591947701\n",
      "depth: 95, f1_score: 0.6841370215500052\n",
      "time: 133.34087300300598\n"
     ]
    }
   ],
   "source": [
    "start = time()\n",
    "\n",
    "scores = []\n",
    "for d in range(10, 100, 5):\n",
    "    params = {'max_depth': d, 'max_features': 'log2', 'n_estimators': 50}\n",
    "    model = RandomForestClassifier(**params, class_weight='balanced')\n",
    "    model.fit(X_train, y_train)\n",
    "    y_pred = model.predict(X_test)\n",
    "    scores.append(f1_score(y_test, y_pred, average='macro'))\n",
    "    print(f'depth: {d}, f1_score: {scores[-1]}')\n",
    "\n",
    "end = time()\n",
    "print('time:', end-start)"
   ],
   "metadata": {
    "collapsed": false
   }
  },
  {
   "cell_type": "code",
   "execution_count": 12,
   "outputs": [
    {
     "name": "stdout",
     "output_type": "stream",
     "text": [
      "              precision    recall  f1-score   support\n",
      "\n",
      "          -2       0.60      0.70      0.64       473\n",
      "          -1       0.74      0.73      0.73      2746\n",
      "           0       0.82      0.78      0.80      4174\n",
      "           1       0.59      0.70      0.64       522\n",
      "           2       0.51      0.78      0.62       105\n",
      "\n",
      "    accuracy                           0.75      8020\n",
      "   macro avg       0.65      0.74      0.69      8020\n",
      "weighted avg       0.76      0.75      0.76      8020\n",
      "\n"
     ]
    }
   ],
   "source": [
    "params = {'max_depth': 30, 'max_features': 'log2', 'n_estimators': 30}\n",
    "best_model = RandomForestClassifier(**params, class_weight='balanced')\n",
    "best_model.fit(X_train, y_train)\n",
    "y_pred = best_model.predict(X_test)\n",
    "report = classification_report(y_test, y_pred)\n",
    "print(report)"
   ],
   "metadata": {
    "collapsed": false
   }
  },
  {
   "cell_type": "code",
   "execution_count": 13,
   "outputs": [],
   "source": [
    "with open('report_rf.txt', 'w') as f:\n",
    "    f.write(report)"
   ],
   "metadata": {
    "collapsed": false
   }
  },
  {
   "cell_type": "code",
   "execution_count": 13,
   "outputs": [],
   "source": [
    "with open(\"Trained_models/Random_Forest_doc2vec.pkl\", \"wb\") as f:\n",
    "    pickle.dump(best_model, f)"
   ],
   "metadata": {
    "collapsed": false
   }
  }
 ],
 "metadata": {
  "kernelspec": {
   "display_name": "Python 3",
   "language": "python",
   "name": "python3"
  },
  "language_info": {
   "codemirror_mode": {
    "name": "ipython",
    "version": 2
   },
   "file_extension": ".py",
   "mimetype": "text/x-python",
   "name": "python",
   "nbconvert_exporter": "python",
   "pygments_lexer": "ipython2",
   "version": "2.7.6"
  }
 },
 "nbformat": 4,
 "nbformat_minor": 0
}
