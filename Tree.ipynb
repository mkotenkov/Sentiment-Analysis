{
 "cells": [
  {
   "cell_type": "code",
   "execution_count": 1,
   "metadata": {
    "collapsed": true
   },
   "outputs": [],
   "source": [
    "import numpy as np\n",
    "from sklearn.metrics import classification_report\n",
    "from sklearn.tree import DecisionTreeClassifier\n",
    "import pickle"
   ]
  },
  {
   "cell_type": "markdown",
   "source": [
    "### tf-idf as input"
   ],
   "metadata": {
    "collapsed": false
   }
  },
  {
   "cell_type": "code",
   "execution_count": 2,
   "outputs": [],
   "source": [
    "X_train = np.load('Data/unbalanced/tfidf_X_train.npy')\n",
    "y_train = np.load('Data/unbalanced/y_train.npy')\n",
    "\n",
    "X_test = np.load('Data/unbalanced/tfidf_X_test.npy')\n",
    "y_test = np.load('Data/unbalanced/y_test.npy')"
   ],
   "metadata": {
    "collapsed": false
   }
  },
  {
   "cell_type": "code",
   "execution_count": 3,
   "outputs": [
    {
     "name": "stdout",
     "output_type": "stream",
     "text": [
      "              precision    recall  f1-score   support\n",
      "\n",
      "          -2       0.48      0.74      0.58       473\n",
      "          -1       0.70      0.74      0.72      2746\n",
      "           0       0.86      0.70      0.77      4174\n",
      "           1       0.50      0.76      0.60       522\n",
      "           2       0.44      0.79      0.56       105\n",
      "\n",
      "    accuracy                           0.72      8020\n",
      "   macro avg       0.60      0.75      0.65      8020\n",
      "weighted avg       0.75      0.72      0.73      8020\n",
      "\n"
     ]
    }
   ],
   "source": [
    "tree = DecisionTreeClassifier(class_weight='balanced')\n",
    "tree.fit(X_train, y_train)\n",
    "y_pred = tree.predict(X_test)\n",
    "print(classification_report(y_test, y_pred))"
   ],
   "metadata": {
    "collapsed": false
   }
  },
  {
   "cell_type": "markdown",
   "source": [
    "### doc2vec as input"
   ],
   "metadata": {
    "collapsed": false
   }
  },
  {
   "cell_type": "code",
   "execution_count": 2,
   "outputs": [],
   "source": [
    "X_train = np.load('Data/unbalanced/doc2vec_X_train.npy')\n",
    "y_train = np.load('Data/unbalanced/y_train.npy')\n",
    "\n",
    "X_test = np.load('Data/unbalanced/doc2vec_X_test.npy')\n",
    "y_test = np.load('Data/unbalanced/y_test.npy')"
   ],
   "metadata": {
    "collapsed": false
   }
  },
  {
   "cell_type": "code",
   "execution_count": 6,
   "outputs": [
    {
     "name": "stdout",
     "output_type": "stream",
     "text": [
      "              precision    recall  f1-score   support\n",
      "\n",
      "          -2       0.51      0.74      0.60       473\n",
      "          -1       0.70      0.75      0.73      2746\n",
      "           0       0.86      0.71      0.78      4174\n",
      "           1       0.52      0.75      0.61       522\n",
      "           2       0.45      0.79      0.57       105\n",
      "\n",
      "    accuracy                           0.73      8020\n",
      "   macro avg       0.61      0.75      0.66      8020\n",
      "weighted avg       0.76      0.73      0.74      8020\n",
      "\n"
     ]
    }
   ],
   "source": [
    "tree = DecisionTreeClassifier(class_weight='balanced')\n",
    "tree.fit(X_train, y_train)\n",
    "y_pred = tree.predict(X_test)\n",
    "print(classification_report(y_test, y_pred))"
   ],
   "metadata": {
    "collapsed": false
   }
  },
  {
   "cell_type": "code",
   "execution_count": 7,
   "outputs": [],
   "source": [
    "with open(\"Trained_models/Tree_doc2vec.pkl\", \"wb\") as f:\n",
    "    pickle.dump(tree, f)"
   ],
   "metadata": {
    "collapsed": false
   }
  }
 ],
 "metadata": {
  "kernelspec": {
   "display_name": "Python 3",
   "language": "python",
   "name": "python3"
  },
  "language_info": {
   "codemirror_mode": {
    "name": "ipython",
    "version": 2
   },
   "file_extension": ".py",
   "mimetype": "text/x-python",
   "name": "python",
   "nbconvert_exporter": "python",
   "pygments_lexer": "ipython2",
   "version": "2.7.6"
  }
 },
 "nbformat": 4,
 "nbformat_minor": 0
}
