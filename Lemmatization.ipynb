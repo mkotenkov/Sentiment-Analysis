{
 "cells": [
  {
   "cell_type": "code",
   "execution_count": 1,
   "metadata": {
    "collapsed": true
   },
   "outputs": [],
   "source": [
    "import numpy as np\n",
    "import pandas as pd\n",
    "import pymystem3\n",
    "import re\n",
    "from sklearn.feature_extraction.text import TfidfVectorizer\n",
    "from tqdm import tqdm"
   ]
  },
  {
   "cell_type": "code",
   "execution_count": 44,
   "outputs": [],
   "source": [
    "train_df = pd.read_excel('Data/train_data_exam_1.xlsx')\n",
    "test_df = pd.read_excel('Data/test_data_exam_1.xlsx')\n",
    "\n",
    "# deleting nan and rows containing non-string value at 'original_data'\n",
    "train_df = train_df.dropna()\n",
    "train_df = train_df[pd.to_numeric(train_df['original_data'], errors='coerce').isna()]\n",
    "test_df = test_df.dropna()\n",
    "test_df = test_df[pd.to_numeric(test_df['original_data'], errors='coerce').isna()]\n",
    "\n",
    "X_train, y_train = train_df['original_data'], train_df['score']\n",
    "X_test, y_test = test_df['original_data'], test_df['score']"
   ],
   "metadata": {
    "collapsed": false
   }
  },
  {
   "cell_type": "code",
   "execution_count": 4,
   "outputs": [],
   "source": [
    "m = pymystem3.Mystem()\n",
    "\n",
    "\n",
    "def lemmatize(X):\n",
    "    data = []\n",
    "    for s in tqdm(X):\n",
    "        s = re.sub(r\"[,.?“/!@#$1234567890#—_ツ►๑۩۞۩•*”˜˜”*°°*`)(]\", ' ', s)\n",
    "        s = m.lemmatize(s)\n",
    "        s = ''.join(s)\n",
    "        data.append(s)\n",
    "    return data"
   ],
   "metadata": {
    "collapsed": false
   }
  },
  {
   "cell_type": "code",
   "execution_count": null,
   "outputs": [
    {
     "name": "stderr",
     "output_type": "stream",
     "text": [
      " 75%|███████▍  | 13961/18715 [00:59<00:19, 242.90it/s]"
     ]
    }
   ],
   "source": [
    "X_train = lemmatize(X_train)\n",
    "X_test = lemmatize(X_test)"
   ],
   "metadata": {
    "collapsed": false,
    "pycharm": {
     "is_executing": true
    }
   }
  },
  {
   "cell_type": "code",
   "execution_count": 63,
   "outputs": [],
   "source": [
    "tfidf_vectorizer = TfidfVectorizer(ngram_range=(1, 1), stop_words=None, max_df=0.1, min_df=0.001)\n",
    "\n",
    "X_train = tfidf_vectorizer.fit_transform(X_train).toarray()\n",
    "train_features = tfidf_vectorizer.get_feature_names_out()\n",
    "\n",
    "X_test = tfidf_vectorizer.fit_transform(X_test).toarray()\n",
    "test_features = tfidf_vectorizer.get_feature_names_out()"
   ],
   "metadata": {
    "collapsed": false
   }
  },
  {
   "cell_type": "code",
   "execution_count": null,
   "outputs": [],
   "source": [
    "def prepare_test_data(train_features, test_features, X_test):\n",
    "    dct = {word: idx for idx, word in enumerate(train_features)}\n",
    "    prepared_X_test = np.empty((X_test.shape[0], train_features.size))\n",
    "\n",
    "    for i, feature in enumerate(test_features):\n",
    "        if feature in dct:\n",
    "            prepared_X_test[:, dct[feature]] = X_test[:, i]\n",
    "\n",
    "    return prepared_X_test\n",
    "\n",
    "prepare_test_data(train_features, test_features, X_test).shape"
   ],
   "metadata": {
    "collapsed": false,
    "pycharm": {
     "is_executing": true
    }
   }
  },
  {
   "cell_type": "code",
   "execution_count": null,
   "outputs": [],
   "source": [
    "np.save('Data/X_train', X_train)\n",
    "np.save('Data/y_train', y_train)\n",
    "np.save('Data/X_test', X_test)\n",
    "np.save('Data/y_test', y_test)"
   ],
   "metadata": {
    "collapsed": false
   }
  }
 ],
 "metadata": {
  "kernelspec": {
   "display_name": "Python 3",
   "language": "python",
   "name": "python3"
  },
  "language_info": {
   "codemirror_mode": {
    "name": "ipython",
    "version": 2
   },
   "file_extension": ".py",
   "mimetype": "text/x-python",
   "name": "python",
   "nbconvert_exporter": "python",
   "pygments_lexer": "ipython2",
   "version": "2.7.6"
  }
 },
 "nbformat": 4,
 "nbformat_minor": 0
}
