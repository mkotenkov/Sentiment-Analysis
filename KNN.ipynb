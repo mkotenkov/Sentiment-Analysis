{
 "cells": [
  {
   "cell_type": "code",
   "execution_count": 19,
   "metadata": {
    "collapsed": true
   },
   "outputs": [],
   "source": [
    "import numpy as np\n",
    "from sklearn.metrics import classification_report, f1_score\n",
    "from sklearn.neighbors import KNeighborsClassifier\n",
    "import pickle"
   ]
  },
  {
   "cell_type": "markdown",
   "source": [
    "### tf-idf as input"
   ],
   "metadata": {
    "collapsed": false
   }
  },
  {
   "cell_type": "code",
   "execution_count": 20,
   "outputs": [
    {
     "name": "stdout",
     "output_type": "stream",
     "text": [
      "(18715, 3850)\n"
     ]
    }
   ],
   "source": [
    "X_train = np.load('Data/unbalanced/tfidf_X_train.npy')\n",
    "y_train = np.load('Data/unbalanced/y_train.npy')\n",
    "\n",
    "X_test = np.load('Data/unbalanced/tfidf_X_test.npy')\n",
    "y_test = np.load('Data/unbalanced/y_test.npy')\n",
    "\n",
    "print(X_train.shape)"
   ],
   "metadata": {
    "collapsed": false
   }
  },
  {
   "cell_type": "code",
   "execution_count": 21,
   "outputs": [
    {
     "name": "stdout",
     "output_type": "stream",
     "text": [
      "              precision    recall  f1-score   support\n",
      "\n",
      "          -2       0.62      0.54      0.58       473\n",
      "          -1       0.73      0.69      0.71      2746\n",
      "           0       0.77      0.82      0.80      4174\n",
      "           1       0.63      0.57      0.60       522\n",
      "           2       0.56      0.59      0.58       105\n",
      "\n",
      "    accuracy                           0.74      8020\n",
      "   macro avg       0.66      0.64      0.65      8020\n",
      "weighted avg       0.74      0.74      0.74      8020\n",
      "\n",
      "time: 14.942200183868408\n"
     ]
    }
   ],
   "source": [
    "from time import time\n",
    "start = time()\n",
    "\n",
    "model = KNeighborsClassifier(n_neighbors=1, n_jobs=-1)\n",
    "model.fit(X_train, y_train)\n",
    "y_pred = model.predict(X_test)\n",
    "print(classification_report(y_test, y_pred))\n",
    "\n",
    "end = time()\n",
    "print('time:', end-start)"
   ],
   "metadata": {
    "collapsed": false
   }
  },
  {
   "cell_type": "markdown",
   "source": [
    "### doc2vec as input"
   ],
   "metadata": {
    "collapsed": false
   }
  },
  {
   "cell_type": "code",
   "execution_count": 17,
   "outputs": [
    {
     "name": "stdout",
     "output_type": "stream",
     "text": [
      "(18715, 300)\n"
     ]
    }
   ],
   "source": [
    "X_train = np.load('Data/unbalanced/doc2vec_X_train.npy')\n",
    "y_train = np.load('Data/unbalanced/y_train.npy')\n",
    "\n",
    "X_test = np.load('Data/unbalanced/doc2vec_X_test.npy')\n",
    "y_test = np.load('Data/unbalanced/y_test.npy')\n",
    "\n",
    "print(X_train.shape)"
   ],
   "metadata": {
    "collapsed": false
   }
  },
  {
   "cell_type": "code",
   "execution_count": 13,
   "outputs": [
    {
     "name": "stdout",
     "output_type": "stream",
     "text": [
      "n: 1, f1_score: 0.6111730835412074\n",
      "n: 2, f1_score: 0.575823469846244\n",
      "n: 3, f1_score: 0.5682314563031865\n",
      "n: 4, f1_score: 0.5364086094937532\n",
      "n: 5, f1_score: 0.5238933329551694\n",
      "n: 6, f1_score: 0.4972424753189649\n",
      "n: 7, f1_score: 0.47909510634520414\n",
      "n: 8, f1_score: 0.4579593446936084\n",
      "n: 9, f1_score: 0.44140039378035506\n",
      "time: 31.871970176696777\n"
     ]
    }
   ],
   "source": [
    "start = time()\n",
    "\n",
    "scores = []\n",
    "for n in range(1, 10):\n",
    "    model = KNeighborsClassifier(n_neighbors=n, n_jobs=-1)\n",
    "    model.fit(X_train, y_train)\n",
    "    y_pred = model.predict(X_test)\n",
    "    scores.append(f1_score(y_test, y_pred, average='macro'))\n",
    "    print(f'n: {n}, f1_score: {scores[-1]}')\n",
    "\n",
    "end = time()\n",
    "print('time:', end-start)"
   ],
   "metadata": {
    "collapsed": false
   }
  },
  {
   "cell_type": "code",
   "execution_count": 18,
   "outputs": [
    {
     "name": "stdout",
     "output_type": "stream",
     "text": [
      "              precision    recall  f1-score   support\n",
      "\n",
      "          -2       0.61      0.55      0.57       473\n",
      "          -1       0.71      0.73      0.72      2746\n",
      "           0       0.80      0.80      0.80      4174\n",
      "           1       0.61      0.60      0.61       522\n",
      "           2       0.56      0.61      0.58       105\n",
      "\n",
      "    accuracy                           0.74      8020\n",
      "   macro avg       0.66      0.66      0.66      8020\n",
      "weighted avg       0.74      0.74      0.74      8020\n",
      "\n"
     ]
    }
   ],
   "source": [
    "model = KNeighborsClassifier(n_neighbors=1, n_jobs=-1)\n",
    "model.fit(X_train, y_train)\n",
    "y_pred = model.predict(X_test)\n",
    "print(classification_report(y_test, y_pred))"
   ],
   "metadata": {
    "collapsed": false
   }
  },
  {
   "cell_type": "code",
   "execution_count": 16,
   "outputs": [],
   "source": [
    "with open(\"Trained_models/KNN_doc2vec.pkl\", \"wb\") as f:\n",
    "    pickle.dump(model, f)"
   ],
   "metadata": {
    "collapsed": false
   }
  }
 ],
 "metadata": {
  "kernelspec": {
   "display_name": "Python 3",
   "language": "python",
   "name": "python3"
  },
  "language_info": {
   "codemirror_mode": {
    "name": "ipython",
    "version": 2
   },
   "file_extension": ".py",
   "mimetype": "text/x-python",
   "name": "python",
   "nbconvert_exporter": "python",
   "pygments_lexer": "ipython2",
   "version": "2.7.6"
  }
 },
 "nbformat": 4,
 "nbformat_minor": 0
}
