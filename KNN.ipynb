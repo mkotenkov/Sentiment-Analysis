{
 "cells": [
  {
   "cell_type": "code",
   "execution_count": 36,
   "metadata": {
    "collapsed": true
   },
   "outputs": [],
   "source": [
    "import numpy as np\n",
    "from sklearn.neighbors import KNeighborsClassifier\n",
    "from sklearn.metrics import classification_report, f1_score\n",
    "from sklearn.model_selection import ShuffleSplit, GridSearchCV\n",
    "import pickle"
   ]
  },
  {
   "cell_type": "code",
   "execution_count": 2,
   "outputs": [],
   "source": [
    "X_train = np.load('Data/X_train.npy')\n",
    "y_train = np.load('Data/y_train.npy')\n",
    "X_test = np.load('Data/X_test.npy')\n",
    "y_test = np.load('Data/y_test.npy')"
   ],
   "metadata": {
    "collapsed": false
   }
  },
  {
   "cell_type": "code",
   "execution_count": 34,
   "outputs": [
    {
     "name": "stdout",
     "output_type": "stream",
     "text": [
      "{'n_neighbors': 1, 'p': 2, 'weights': 'uniform'}\n",
      "0.44479144757032985\n"
     ]
    }
   ],
   "source": [
    "param_grid = [{\n",
    "    'n_neighbors': [1],\n",
    "    'weights': ['uniform', 'distance'],\n",
    "    'p': [1, 2]\n",
    "}]\n",
    "\n",
    "knn = KNeighborsClassifier()\n",
    "cv = ShuffleSplit(n_splits=3, test_size=0.01, train_size=0.02, random_state=0)\n",
    "clf = GridSearchCV(knn, param_grid, cv=cv , scoring='f1_macro')\n",
    "clf.fit(X_train, y_train)\n",
    "print(clf.best_params_)\n",
    "print(clf.best_score_)"
   ],
   "metadata": {
    "collapsed": false
   }
  },
  {
   "cell_type": "code",
   "execution_count": 35,
   "outputs": [
    {
     "name": "stdout",
     "output_type": "stream",
     "text": [
      "f1:  0.594073398547211\n",
      "              precision    recall  f1-score   support\n",
      "\n",
      "          -2       0.45      0.75      0.57       473\n",
      "          -1       0.61      0.74      0.67      2746\n",
      "           0       0.81      0.65      0.72      4174\n",
      "           1       0.51      0.50      0.51       522\n",
      "           2       0.58      0.45      0.51       105\n",
      "\n",
      "    accuracy                           0.67      8020\n",
      "   macro avg       0.59      0.62      0.59      8020\n",
      "weighted avg       0.70      0.67      0.68      8020\n",
      "\n"
     ]
    }
   ],
   "source": [
    "best_model = KNeighborsClassifier(**clf.best_params_)\n",
    "best_model.fit(X_train, y_train)\n",
    "\n",
    "y_pred = best_model.predict(X_test)\n",
    "print('f1: ', f1_score(y_test, y_pred, average=\"macro\"))\n",
    "print(classification_report(y_test, y_pred))"
   ],
   "metadata": {
    "collapsed": false
   }
  },
  {
   "cell_type": "code",
   "execution_count": 37,
   "outputs": [],
   "source": [
    "with open(\"Trained_models/KNN.pkl\", \"wb\") as f:\n",
    "    pickle.dump(best_model, f)"
   ],
   "metadata": {
    "collapsed": false
   }
  }
 ],
 "metadata": {
  "kernelspec": {
   "display_name": "Python 3",
   "language": "python",
   "name": "python3"
  },
  "language_info": {
   "codemirror_mode": {
    "name": "ipython",
    "version": 2
   },
   "file_extension": ".py",
   "mimetype": "text/x-python",
   "name": "python",
   "nbconvert_exporter": "python",
   "pygments_lexer": "ipython2",
   "version": "2.7.6"
  }
 },
 "nbformat": 4,
 "nbformat_minor": 0
}
