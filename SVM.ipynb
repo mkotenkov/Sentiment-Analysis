{
 "cells": [
  {
   "cell_type": "code",
   "execution_count": 4,
   "metadata": {
    "collapsed": true
   },
   "outputs": [],
   "source": [
    "import numpy as np"
   ]
  },
  {
   "cell_type": "code",
   "execution_count": 5,
   "outputs": [],
   "source": [
    "X_train = np.load('Data/X_train.npy')\n",
    "y_train = np.load('Data/y_train.npy')\n",
    "X_test = np.load('Data/X_test.npy')\n",
    "y_test = np.load('Data/y_test.npy')"
   ],
   "metadata": {
    "collapsed": false
   }
  },
  {
   "cell_type": "code",
   "execution_count": null,
   "outputs": [],
   "source": [
    "# importing the model\n",
    "from sklearn import metrics\n",
    "from sklearn.svm import SVC\n",
    "\n",
    "# parameter that determines the RBF core\n",
    "# if ‘auto’, uses 1 / n_features.\n",
    "gamma='auto'\n",
    "\n",
    "# parameter that defines the transformation function\n",
    "#kernel='rbf'\n",
    "#kernel='linear'\n",
    "# kernel='poly', degree=1\n",
    "\n",
    "# determine the model of the classifier\n",
    "model = SVC(kernel='linear', C=1.0, gamma='auto')\n",
    "\n",
    "# training a model on a training datase\n",
    "model.fit(X_train, y_train)\n",
    "# model parameters\n",
    "print(model)\n",
    "\n",
    "# making a prediction\n",
    "predicted = model.predict(X_test)\n",
    "\n",
    "# determining the quality of the model\n",
    "print(metrics.classification_report(y_test, predicted, zero_division=0))\n",
    "# print confusion matrix\n",
    "print(metrics.confusion_matrix(y_test, predicted))\n",
    "\n",
    "%matplotlib inline\n",
    "import matplotlib.pyplot as plt\n",
    "fig, ax = plt.subplots()\n",
    "# the numeric array will be rendered as a colored table.\n",
    "cmap=plt.cm.Greens\n",
    "ax.imshow(metrics.confusion_matrix(y_test, predicted), cmap=cmap)\n",
    "fig.set_figwidth(6)    #  width\n",
    "fig.set_figheight(6)    #  height\n",
    "plt.show()"
   ],
   "metadata": {
    "collapsed": false,
    "pycharm": {
     "is_executing": true
    }
   }
  }
 ],
 "metadata": {
  "kernelspec": {
   "display_name": "Python 3",
   "language": "python",
   "name": "python3"
  },
  "language_info": {
   "codemirror_mode": {
    "name": "ipython",
    "version": 2
   },
   "file_extension": ".py",
   "mimetype": "text/x-python",
   "name": "python",
   "nbconvert_exporter": "python",
   "pygments_lexer": "ipython2",
   "version": "2.7.6"
  }
 },
 "nbformat": 4,
 "nbformat_minor": 0
}
