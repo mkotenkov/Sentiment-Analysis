{
 "cells": [
  {
   "cell_type": "code",
   "execution_count": 14,
   "metadata": {
    "collapsed": true
   },
   "outputs": [
    {
     "name": "stderr",
     "output_type": "stream",
     "text": [
      "[nltk_data] Downloading package stopwords to\n",
      "[nltk_data]     /Users/maksimkoltugin/nltk_data...\n",
      "[nltk_data]   Package stopwords is already up-to-date!\n"
     ]
    },
    {
     "data": {
      "text/plain": "True"
     },
     "execution_count": 14,
     "metadata": {},
     "output_type": "execute_result"
    }
   ],
   "source": [
    "import numpy as np\n",
    "import pandas as pd\n",
    "import pymystem3\n",
    "import re\n",
    "from sklearn.feature_extraction.text import TfidfVectorizer\n",
    "from sklearn.utils import resample\n",
    "from tqdm import tqdm\n",
    "import nltk\n",
    "from nltk.corpus import stopwords\n",
    "import matplotlib.pyplot as plt\n",
    "\n",
    "nltk.download('stopwords')"
   ]
  },
  {
   "cell_type": "code",
   "execution_count": 87,
   "outputs": [],
   "source": [
    "train_df = pd.read_excel('Data/train_data_exam_1.xlsx')\n",
    "test_df = pd.read_excel('Data/test_data_exam_1.xlsx')\n",
    "\n",
    "# deleting nan and rows containing non-string value at 'original_data'\n",
    "train_df = train_df.dropna()\n",
    "train_df = train_df[pd.to_numeric(train_df['original_data'], errors='coerce').isna()].reset_index(drop=True)\n",
    "\n",
    "test_df = test_df.dropna()\n",
    "test_df = test_df[pd.to_numeric(test_df['original_data'], errors='coerce').isna()].reset_index(drop=True)"
   ],
   "metadata": {
    "collapsed": false
   }
  },
  {
   "cell_type": "code",
   "execution_count": 88,
   "outputs": [],
   "source": [
    "X_train, y_train = train_df['original_data'], train_df['score']\n",
    "X_test, y_test = test_df['original_data'], test_df['score']"
   ],
   "metadata": {
    "collapsed": false
   }
  },
  {
   "cell_type": "code",
   "execution_count": 89,
   "outputs": [],
   "source": [
    "m = pymystem3.Mystem()\n",
    "\n",
    "\n",
    "def lemmatize(X):\n",
    "    data = []\n",
    "    for s in tqdm(X):\n",
    "        s = re.sub(r\"[,.?“/!@#$1234567890#—_ツ►๑۩۞۩•*”˜˜”*°°*`)(]\", ' ', s)\n",
    "        s = m.lemmatize(s)\n",
    "        s = ''.join(s)\n",
    "        data.append(s)\n",
    "    return data"
   ],
   "metadata": {
    "collapsed": false
   }
  },
  {
   "cell_type": "code",
   "execution_count": 90,
   "outputs": [
    {
     "name": "stderr",
     "output_type": "stream",
     "text": [
      "100%|██████████| 18715/18715 [01:27<00:00, 214.89it/s]\n",
      "100%|██████████| 8020/8020 [00:36<00:00, 218.16it/s]\n"
     ]
    }
   ],
   "source": [
    "lem_X_train = lemmatize(X_train)\n",
    "lem_X_test = lemmatize(X_test)"
   ],
   "metadata": {
    "collapsed": false
   }
  },
  {
   "cell_type": "code",
   "execution_count": 96,
   "outputs": [
    {
     "data": {
      "text/plain": "<Figure size 640x480 with 1 Axes>",
      "image/png": "[encoded data removed]"
     },
     "metadata": {},
     "output_type": "display_data"
    }
   ],
   "source": [
    "train_df = pd.DataFrame(data=lem_X_train)\n",
    "train_df = pd.concat([train_df, y_train], axis=1)\n",
    "\n",
    "train_df['score'].hist()\n",
    "plt.show()\n",
    "\n",
    "strong_negative = train_df[train_df['score'] == -2]\n",
    "negative = train_df[train_df['score'] == -1]\n",
    "neutral = train_df[train_df['score'] == 0]\n",
    "positive = train_df[train_df['score'] == 1]\n",
    "strong_positive = train_df[train_df['score'] == 2]\n",
    "\n",
    "n = neutral.shape[0]\n",
    "\n",
    "strong_negative = resample(strong_negative, replace=True, n_samples=n, random_state=0)\n",
    "negative = resample(negative, replace=True, n_samples=n, random_state=0)\n",
    "neutral = resample(neutral, replace=True, n_samples=n, random_state=0)\n",
    "positive = resample(positive, replace=True, n_samples=n, random_state=0)\n",
    "strong_positive = resample(strong_positive, replace=True, n_samples=n, random_state=0)\n",
    "\n",
    "train_df = pd.concat([strong_negative, negative, neutral, positive, strong_positive])\n",
    "lem_X_train, y_train = train_df[0], train_df['score']"
   ],
   "metadata": {
    "collapsed": false
   }
  },
  {
   "cell_type": "code",
   "execution_count": 97,
   "outputs": [],
   "source": [
    "words = stopwords.words(\"russian\")\n",
    "tfidf_vectorizer = TfidfVectorizer(ngram_range=(1, 1), stop_words=words, max_df=1., min_df=0.002)\n",
    "\n",
    "X_train = tfidf_vectorizer.fit_transform(lem_X_train).toarray()\n",
    "train_features = tfidf_vectorizer.get_feature_names_out()\n",
    "\n",
    "X_test = tfidf_vectorizer.fit_transform(lem_X_test).toarray()\n",
    "test_features = tfidf_vectorizer.get_feature_names_out()"
   ],
   "metadata": {
    "collapsed": false
   }
  },
  {
   "cell_type": "code",
   "execution_count": 100,
   "outputs": [
    {
     "data": {
      "text/plain": "(48685, 5779)"
     },
     "execution_count": 100,
     "metadata": {},
     "output_type": "execute_result"
    }
   ],
   "source": [
    "test_features.size"
   ],
   "metadata": {
    "collapsed": false
   }
  },
  {
   "cell_type": "code",
   "execution_count": 101,
   "outputs": [],
   "source": [
    "def prepare_test_data(train_features, test_features, X_test):\n",
    "    dct = {word: idx for idx, word in enumerate(train_features)}\n",
    "    prepared_X_test = np.zeros((X_test.shape[0], train_features.size))\n",
    "\n",
    "    for i, feature in enumerate(test_features):\n",
    "        if feature in dct:\n",
    "            prepared_X_test[:, dct[feature]] = X_test[:, i]\n",
    "\n",
    "    return prepared_X_test\n",
    "\n",
    "\n",
    "X_test = prepare_test_data(train_features, test_features, X_test)"
   ],
   "metadata": {
    "collapsed": false
   }
  },
  {
   "cell_type": "code",
   "execution_count": 102,
   "outputs": [],
   "source": [
    "np.save('Data/X_train', X_train)\n",
    "np.save('Data/y_train', y_train)\n",
    "np.save('Data/X_test', X_test)\n",
    "np.save('Data/y_test', y_test)"
   ],
   "metadata": {
    "collapsed": false
   }
  }
 ],
 "metadata": {
  "kernelspec": {
   "display_name": "Python 3",
   "language": "python",
   "name": "python3"
  },
  "language_info": {
   "codemirror_mode": {
    "name": "ipython",
    "version": 2
   },
   "file_extension": ".py",
   "mimetype": "text/x-python",
   "name": "python",
   "nbconvert_exporter": "python",
   "pygments_lexer": "ipython2",
   "version": "2.7.6"
  }
 },
 "nbformat": 4,
 "nbformat_minor": 0
}
