{
 "cells": [
  {
   "cell_type": "code",
   "execution_count": 1,
   "metadata": {
    "collapsed": true
   },
   "outputs": [
    {
     "name": "stderr",
     "output_type": "stream",
     "text": [
      "[nltk_data] Downloading package stopwords to\n",
      "[nltk_data]     /Users/maksimkoltugin/nltk_data...\n",
      "[nltk_data]   Package stopwords is already up-to-date!\n"
     ]
    }
   ],
   "source": [
    "import numpy as np\n",
    "import pandas as pd\n",
    "import pymystem3\n",
    "import re\n",
    "from sklearn.feature_extraction.text import TfidfVectorizer\n",
    "from sklearn.utils import resample\n",
    "from tqdm import tqdm\n",
    "import nltk\n",
    "from nltk.corpus import stopwords\n",
    "import matplotlib.pyplot as plt\n",
    "from navec import Navec\n",
    "\n",
    "nltk.download('stopwords')\n",
    "navec = Navec.load('Data/navec_hudlit_v1_12B_500K_300d_100q.tar')"
   ]
  },
  {
   "cell_type": "markdown",
   "source": [
    "### Download data"
   ],
   "metadata": {
    "collapsed": false
   }
  },
  {
   "cell_type": "code",
   "execution_count": 2,
   "outputs": [
    {
     "name": "stdout",
     "output_type": "stream",
     "text": [
      "(18779, 2)\n",
      "(8048, 2)\n"
     ]
    }
   ],
   "source": [
    "train_df = pd.read_excel('Data/train_data_exam_1.xlsx')\n",
    "test_df = pd.read_excel('Data/test_data_exam_1.xlsx')\n",
    "\n",
    "print(train_df.shape)\n",
    "print(test_df.shape)"
   ],
   "metadata": {
    "collapsed": false
   }
  },
  {
   "cell_type": "markdown",
   "source": [
    "### Delete N/A's and rows containing non-string value at 'original_data'"
   ],
   "metadata": {
    "collapsed": false
   }
  },
  {
   "cell_type": "code",
   "execution_count": 3,
   "outputs": [
    {
     "name": "stdout",
     "output_type": "stream",
     "text": [
      "(18715,)\n",
      "(8020,)\n"
     ]
    }
   ],
   "source": [
    "train_df = train_df.dropna()\n",
    "train_df = train_df[pd.to_numeric(train_df['original_data'], errors='coerce').isna()].reset_index(drop=True)\n",
    "test_df = test_df.dropna()\n",
    "test_df = test_df[pd.to_numeric(test_df['original_data'], errors='coerce').isna()].reset_index(drop=True)\n",
    "\n",
    "X_train, y_train = train_df['original_data'], train_df['score']\n",
    "X_test, y_test = test_df['original_data'], test_df['score']\n",
    "\n",
    "print(X_train.shape)\n",
    "print(X_test.shape)"
   ],
   "metadata": {
    "collapsed": false
   }
  },
  {
   "cell_type": "markdown",
   "source": [
    "### Tokenize, lemmatize data"
   ],
   "metadata": {
    "collapsed": false
   }
  },
  {
   "cell_type": "code",
   "execution_count": 4,
   "outputs": [
    {
     "name": "stderr",
     "output_type": "stream",
     "text": [
      "100%|██████████| 18715/18715 [01:27<00:00, 213.91it/s]\n",
      "100%|██████████| 8020/8020 [00:36<00:00, 219.91it/s]"
     ]
    },
    {
     "name": "stdout",
     "output_type": "stream",
     "text": [
      "главное-не терять разговорный русский  иначе быть порицать    с индус общаться вот где хард кор  английский вообще-то из европа    в скандинавия  великобритания неплохо он владеть    ваш ко  недавно находить свой читательский билет  английский библиотека  залогиниться  обнаруживать возможность скачивать неплохий аудиокнига  если говорить о современный российский  то они предпочитать робото зачитывание  а точно весь они в топка    а английский  довольно качественный  сейчас  приключение геккельберифин с нигер слушать      у вы и русский постепенно теряться  по крайний мера  письменный    например  в этот пост слово иностранный  офис  по-русски писаться без двойной  ф    я в переводчик на смартфон говорить по-русски  а он по-английски  в планшет наоборот настраивать  хотеть процент    попадание добиваться \n",
      "\n"
     ]
    },
    {
     "name": "stderr",
     "output_type": "stream",
     "text": [
      "\n"
     ]
    }
   ],
   "source": [
    "m = pymystem3.Mystem()\n",
    "\n",
    "\n",
    "def lemmatize(X):\n",
    "    data = []\n",
    "    for s in tqdm(X):\n",
    "        s = re.sub(r\"[\\\\:,.?“/!@#$1234567890#—_ツ►๑۩۞۩•*”˜˜”*°°*`)(]\", ' ', s)\n",
    "        s = m.lemmatize(s)\n",
    "        s = ''.join(s)\n",
    "        data.append(s)\n",
    "    return data\n",
    "\n",
    "\n",
    "lem_X_train = lemmatize(X_train)\n",
    "lem_X_test = lemmatize(X_test)\n",
    "\n",
    "print(lem_X_train[12345])"
   ],
   "metadata": {
    "collapsed": false
   }
  },
  {
   "cell_type": "markdown",
   "source": [
    "### Downsample/upsample, so that each label is present in the amount of $n$ observations"
   ],
   "metadata": {
    "collapsed": false
   }
  },
  {
   "cell_type": "code",
   "execution_count": 5,
   "outputs": [
    {
     "name": "stdout",
     "output_type": "stream",
     "text": [
      "before balancing:\n",
      " 0    9737\n",
      "-1    6465\n",
      " 1    1204\n",
      "-2    1059\n",
      " 2     250\n",
      "Name: score, dtype: int64\n",
      "\n",
      "after balancing:\n",
      "-2    9737\n",
      "-1    9737\n",
      " 0    9737\n",
      " 1    9737\n",
      " 2    9737\n",
      "Name: score, dtype: int64\n"
     ]
    }
   ],
   "source": [
    "train_df = pd.concat([pd.DataFrame(lem_X_train), y_train], axis=1)\n",
    "\n",
    "print(f\"before balancing:\\n{train_df['score'].value_counts()}\")\n",
    "\n",
    "strong_negative = train_df[train_df['score'] == -2]\n",
    "negative = train_df[train_df['score'] == -1]\n",
    "neutral = train_df[train_df['score'] == 0]\n",
    "positive = train_df[train_df['score'] == 1]\n",
    "strong_positive = train_df[train_df['score'] == 2]\n",
    "\n",
    "n = neutral.shape[0]\n",
    "\n",
    "params = {'replace': True, 'n_samples': n, 'random_state': 0}\n",
    "\n",
    "strong_negative = resample(strong_negative, **params)\n",
    "negative = resample(negative, **params)\n",
    "neutral = resample(neutral, **params)\n",
    "positive = resample(positive, **params)\n",
    "strong_positive = resample(strong_positive, **params)\n",
    "\n",
    "train_df = pd.concat([strong_negative, negative, neutral, positive, strong_positive])\n",
    "lem_X_train, y_train = train_df[0].tolist(), train_df['score']\n",
    "\n",
    "print(f\"\\nafter balancing:\\n{train_df['score'].value_counts()}\")"
   ],
   "metadata": {
    "collapsed": false
   }
  },
  {
   "cell_type": "markdown",
   "source": [
    "### Form the tf-idf matrix (not used for doc2idxs, doc2vec, doc2marix)"
   ],
   "metadata": {
    "collapsed": false
   }
  },
  {
   "cell_type": "code",
   "execution_count": 6,
   "outputs": [
    {
     "name": "stdout",
     "output_type": "stream",
     "text": [
      "['дворецкий' 'дворник' 'дворянин' 'де' 'дебил' 'девать' 'деваться'\n",
      " 'девица' 'девочка' 'девушка' 'девчата' 'девчонка' 'дегенерат' 'дед'\n",
      " 'дедов' 'дедушка' 'действие' 'действительно' 'действительность'\n",
      " 'действительный' 'действовать' 'действующий' 'декабрь' 'делаться'\n",
      " 'делить' 'делиться' 'деловой' 'дельный' 'демографический' 'демократ'\n",
      " 'демократический' 'демократия' 'демонстрация' 'демонстрировать' 'денежки'\n",
      " 'денежный' 'денис' 'депозит' 'депутат' 'деревня' 'дерево' 'держава'\n",
      " 'держать' 'держаться' 'дерьмо' 'десант' 'десятилетие' 'десяток' 'десятый'\n",
      " 'десять']\n",
      "\n",
      "Vocabulary size: 5663\n",
      "(48685, 5663) (8020, 5663)\n"
     ]
    }
   ],
   "source": [
    "words = stopwords.words(\"russian\")\n",
    "tfidf_vectorizer = TfidfVectorizer(ngram_range=(1, 1), stop_words=words, max_df=0.1, min_df=0.002)\n",
    "\n",
    "X_train_test = tfidf_vectorizer.fit_transform(lem_X_train + lem_X_test).toarray()\n",
    "tfidf_X_train, tfidf_X_test = X_train_test[:len(lem_X_train), :], X_train_test[len(lem_X_train):, :]\n",
    "\n",
    "features = tfidf_vectorizer.get_feature_names_out()\n",
    "print(features[1000:1050])\n",
    "print(f'\\nVocabulary size: {len(features)}')\n",
    "print(tfidf_X_train.shape, tfidf_X_test.shape)"
   ],
   "metadata": {
    "collapsed": false
   }
  },
  {
   "cell_type": "code",
   "execution_count": 7,
   "outputs": [],
   "source": [
    "np.save('Data/balanced/tfidf_X_train', tfidf_X_train)\n",
    "np.save('Data/balanced/y_train', y_train)\n",
    "np.save('Data/balanced/tfidf_X_test', tfidf_X_test)\n",
    "np.save('Data/balanced/y_test', y_test)"
   ],
   "metadata": {
    "collapsed": false
   }
  },
  {
   "cell_type": "markdown",
   "source": [
    "### Display distribution of doc lenghtes (to choose max_text_length, which will be used for doc2idxs, doc2matrix):"
   ],
   "metadata": {
    "collapsed": false
   }
  },
  {
   "cell_type": "code",
   "execution_count": 8,
   "outputs": [
    {
     "name": "stderr",
     "output_type": "stream",
     "text": [
      "100%|██████████| 8020/8020 [00:06<00:00, 1279.38it/s]\n"
     ]
    },
    {
     "data": {
      "text/plain": "<Figure size 640x480 with 1 Axes>",
      "image/png": "[encoded data removed]"
     },
     "metadata": {},
     "output_type": "display_data"
    }
   ],
   "source": [
    "doc_lengthes = []\n",
    "for doc_idx in tqdm(range(len(lem_X_test))):\n",
    "    doc_length = 0\n",
    "    for word in lem_X_test[doc_idx].split(' '):\n",
    "        try:\n",
    "            _ = navec[word]\n",
    "            doc_length += 1\n",
    "        except KeyError:\n",
    "            pass\n",
    "    doc_lengthes.append(doc_length)\n",
    "\n",
    "plt.hist(doc_lengthes, bins=100)\n",
    "plt.show()"
   ],
   "metadata": {
    "collapsed": false
   }
  },
  {
   "cell_type": "markdown",
   "source": [
    "### Doc2idxs (for self-training embeddings using torch.Embedding)"
   ],
   "metadata": {
    "collapsed": false
   }
  },
  {
   "cell_type": "code",
   "execution_count": 9,
   "outputs": [
    {
     "name": "stdout",
     "output_type": "stream",
     "text": [
      "padding_index: 0\n"
     ]
    },
    {
     "name": "stderr",
     "output_type": "stream",
     "text": [
      "100%|██████████| 48685/48685 [00:42<00:00, 1137.68it/s]\n",
      "100%|██████████| 8020/8020 [00:06<00:00, 1195.43it/s]"
     ]
    },
    {
     "name": "stdout",
     "output_type": "stream",
     "text": [
      "(48685, 200) (8020, 200)\n",
      "Vocabulary size: 36879\n"
     ]
    },
    {
     "name": "stderr",
     "output_type": "stream",
     "text": [
      "\n"
     ]
    }
   ],
   "source": [
    "max_text_length = 200\n",
    "padding_symbol = 0\n",
    "vocabulary = {'<padding>': padding_symbol}\n",
    "curr_idx = 1\n",
    "\n",
    "print(f'padding_index: {padding_symbol}')\n",
    "\n",
    "\n",
    "def doc2idxs(list_of_docs: list):\n",
    "    global curr_idx\n",
    "    result = []\n",
    "    for doc_idx in tqdm(range(len(list_of_docs))):\n",
    "        doc_words = []\n",
    "        for word in list_of_docs[doc_idx].split(' '):\n",
    "            try:\n",
    "                _ = navec[word]\n",
    "                if word not in vocabulary:\n",
    "                    vocabulary[word] = curr_idx\n",
    "                    curr_idx += 1\n",
    "\n",
    "                doc_words.append(vocabulary[word])\n",
    "            except KeyError:\n",
    "                pass\n",
    "        doc_words = [padding_symbol] * (max_text_length - len(doc_words)) + doc_words\n",
    "        result.append(doc_words[:max_text_length])\n",
    "    return np.array(result)\n",
    "\n",
    "\n",
    "doc2idxs_X_train = doc2idxs(lem_X_train)\n",
    "doc2idxs_X_test = doc2idxs(lem_X_test)\n",
    "print(doc2idxs_X_train.shape, doc2idxs_X_test.shape)\n",
    "print(\"Vocabulary size:\", curr_idx + 1)"
   ],
   "metadata": {
    "collapsed": false
   }
  },
  {
   "cell_type": "code",
   "execution_count": 10,
   "outputs": [],
   "source": [
    "np.save('Data/balanced/doc2idxs_X_train', doc2idxs_X_train)\n",
    "np.save('Data/balanced/doc2idxs_X_test', doc2idxs_X_test)"
   ],
   "metadata": {
    "collapsed": false
   }
  },
  {
   "cell_type": "markdown",
   "source": [
    "### Doc2matrix"
   ],
   "metadata": {
    "collapsed": false
   }
  },
  {
   "cell_type": "code",
   "execution_count": 11,
   "outputs": [
    {
     "name": "stderr",
     "output_type": "stream",
     "text": [
      "100%|██████████| 48685/48685 [00:54<00:00, 894.48it/s] \n",
      "100%|██████████| 8020/8020 [00:10<00:00, 782.46it/s]\n"
     ]
    },
    {
     "name": "stdout",
     "output_type": "stream",
     "text": [
      "(48685, 200, 300)\n",
      "(8020, 200, 300)\n"
     ]
    }
   ],
   "source": [
    "def doc2matrix(list_of_docs: list):\n",
    "    unk = navec['<unk>']\n",
    "    pad = navec['<pad>']\n",
    "\n",
    "    data = []\n",
    "    for doc_idx in tqdm(range(len(list_of_docs))):\n",
    "        doc_words = []\n",
    "        for word in list_of_docs[doc_idx].split(' '):\n",
    "            if word in vocabulary:\n",
    "                embedding = navec.get(word, unk)\n",
    "                doc_words.append(embedding)\n",
    "        doc_words = [pad] * (max_text_length - len(doc_words)) + doc_words\n",
    "        doc_embeddings = np.vstack(doc_words[:max_text_length])\n",
    "        data.append(doc_embeddings)\n",
    "    data = np.stack(data)\n",
    "    return data\n",
    "\n",
    "doc2matrix_X_train = doc2matrix(lem_X_train)\n",
    "doc2matrix_X_test = doc2matrix(lem_X_test)\n",
    "\n",
    "print(doc2matrix_X_train.shape)\n",
    "print(doc2matrix_X_test.shape)"
   ],
   "metadata": {
    "collapsed": false
   }
  },
  {
   "cell_type": "code",
   "execution_count": 12,
   "outputs": [],
   "source": [
    "np.save('Data/balanced/doc2matrix_X_train', doc2matrix_X_train)\n",
    "np.save('Data/balanced/doc2matrix_X_test', doc2matrix_X_test)"
   ],
   "metadata": {
    "collapsed": false
   }
  },
  {
   "cell_type": "markdown",
   "source": [
    "### Doc2vec"
   ],
   "metadata": {
    "collapsed": false
   }
  },
  {
   "cell_type": "code",
   "execution_count": 13,
   "outputs": [
    {
     "name": "stderr",
     "output_type": "stream",
     "text": [
      "100%|██████████| 48685/48685 [00:50<00:00, 958.18it/s] \n",
      "100%|██████████| 8020/8020 [00:08<00:00, 994.50it/s] \n"
     ]
    },
    {
     "name": "stdout",
     "output_type": "stream",
     "text": [
      "(48685, 300)\n",
      "(8020, 300)\n"
     ]
    }
   ],
   "source": [
    "def doc2vec(list_of_docs: list):\n",
    "    data = []\n",
    "    for doc_idx in tqdm(range(len(list_of_docs))):\n",
    "        doc_words = []\n",
    "        for word in list_of_docs[doc_idx].split(' '):\n",
    "            if word in vocabulary:\n",
    "                embedding = navec.get(word)\n",
    "                doc_words.append(embedding)\n",
    "        doc_embeddings = np.vstack(doc_words).sum(axis=0)\n",
    "        data.append(doc_embeddings)\n",
    "    data = np.stack(data)\n",
    "    return data\n",
    "\n",
    "doc2vec_X_train = doc2vec(lem_X_train)\n",
    "doc2vec_X_test = doc2vec(lem_X_test)\n",
    "\n",
    "print(doc2vec_X_train.shape)\n",
    "print(doc2vec_X_test.shape)"
   ],
   "metadata": {
    "collapsed": false
   }
  },
  {
   "cell_type": "code",
   "execution_count": 14,
   "outputs": [],
   "source": [
    "np.save('Data/balanced/doc2vec_X_train', doc2vec_X_train)\n",
    "np.save('Data/balanced/doc2vec_X_test', doc2vec_X_test)"
   ],
   "metadata": {
    "collapsed": false
   }
  },
  {
   "cell_type": "code",
   "execution_count": null,
   "outputs": [],
   "source": [],
   "metadata": {
    "collapsed": false
   }
  }
 ],
 "metadata": {
  "kernelspec": {
   "display_name": "Python 3",
   "language": "python",
   "name": "python3"
  },
  "language_info": {
   "codemirror_mode": {
    "name": "ipython",
    "version": 2
   },
   "file_extension": ".py",
   "mimetype": "text/x-python",
   "name": "python",
   "nbconvert_exporter": "python",
   "pygments_lexer": "ipython2",
   "version": "2.7.6"
  }
 },
 "nbformat": 4,
 "nbformat_minor": 0
}
